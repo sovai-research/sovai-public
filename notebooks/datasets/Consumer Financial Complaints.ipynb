{
 "cells": [
  {
   "cell_type": "code",
   "execution_count": null,
   "id": "1ec27e94",
   "metadata": {},
   "outputs": [],
   "source": [
    "!pip install sovai[full]"
   ]
  },
  {
   "cell_type": "markdown",
   "metadata": {},
   "source": [
    "## Consumer Financial Complaint"
   ]
  },
  {
   "cell_type": "code",
   "execution_count": 8,
   "metadata": {},
   "outputs": [],
   "source": [
    "import sovai as sov\n",
    "\n",
    "sov.token_auth(token=\"visit https://sov.ai/profile for your token\")"
   ]
  },
  {
   "cell_type": "code",
   "execution_count": 9,
   "metadata": {},
   "outputs": [
    {
     "name": "stderr",
     "output_type": "stream",
     "text": [
      "Loading data: 100%|███████████████████████████████████████████████████████████████████████████████████████████████████████████████████████████████████████████████████████████████████████████████████████| 2/2 [00:08<00:00,  4.05s/it]\n"
     ]
    },
    {
     "data": {
      "text/html": [
       "<div>\n",
       "<style scoped>\n",
       "    .dataframe tbody tr th:only-of-type {\n",
       "        vertical-align: middle;\n",
       "    }\n",
       "\n",
       "    .dataframe tbody tr th {\n",
       "        vertical-align: top;\n",
       "    }\n",
       "\n",
       "    .dataframe thead th {\n",
       "        text-align: right;\n",
       "    }\n",
       "</style>\n",
       "<table border=\"1\" class=\"dataframe\">\n",
       "  <thead>\n",
       "    <tr style=\"text-align: right;\">\n",
       "      <th></th>\n",
       "      <th></th>\n",
       "      <th>company</th>\n",
       "      <th>bloomberg_share_id</th>\n",
       "      <th>culpability_score</th>\n",
       "      <th>complaint_score</th>\n",
       "      <th>grievance_score</th>\n",
       "      <th>total_risk_rating</th>\n",
       "      <th>product</th>\n",
       "      <th>sub_product</th>\n",
       "      <th>issue</th>\n",
       "      <th>sub_issue</th>\n",
       "      <th>consumer_complaint_narrative</th>\n",
       "      <th>company_public_response</th>\n",
       "      <th>state</th>\n",
       "      <th>zip_code</th>\n",
       "      <th>tags</th>\n",
       "      <th>consumer_consent_provided</th>\n",
       "      <th>submitted_via</th>\n",
       "      <th>date_sent_to_company</th>\n",
       "      <th>company_response_to_consumer</th>\n",
       "      <th>timely_response</th>\n",
       "      <th>consumer_disputed</th>\n",
       "      <th>selected_name</th>\n",
       "      <th>similarity</th>\n",
       "    </tr>\n",
       "    <tr>\n",
       "      <th>ticker</th>\n",
       "      <th>date</th>\n",
       "      <th></th>\n",
       "      <th></th>\n",
       "      <th></th>\n",
       "      <th></th>\n",
       "      <th></th>\n",
       "      <th></th>\n",
       "      <th></th>\n",
       "      <th></th>\n",
       "      <th></th>\n",
       "      <th></th>\n",
       "      <th></th>\n",
       "      <th></th>\n",
       "      <th></th>\n",
       "      <th></th>\n",
       "      <th></th>\n",
       "      <th></th>\n",
       "      <th></th>\n",
       "      <th></th>\n",
       "      <th></th>\n",
       "      <th></th>\n",
       "      <th></th>\n",
       "      <th></th>\n",
       "      <th></th>\n",
       "    </tr>\n",
       "  </thead>\n",
       "  <tbody>\n",
       "    <tr>\n",
       "      <th rowspan=\"5\" valign=\"top\">WFC</th>\n",
       "      <th>2025-03-24</th>\n",
       "      <td>wells fargo &amp; company</td>\n",
       "      <td>BBG001S63TD2</td>\n",
       "      <td>0.165</td>\n",
       "      <td>-0.236</td>\n",
       "      <td>-0.010</td>\n",
       "      <td>-0.027</td>\n",
       "      <td>Checking or savings account</td>\n",
       "      <td>Checking account</td>\n",
       "      <td>Managing an account</td>\n",
       "      <td>Deposits and withdrawals</td>\n",
       "      <td>None</td>\n",
       "      <td>Company has responded to the consumer and the ...</td>\n",
       "      <td>NJ</td>\n",
       "      <td>07202</td>\n",
       "      <td>None</td>\n",
       "      <td>None</td>\n",
       "      <td>Web</td>\n",
       "      <td>2025-03-24</td>\n",
       "      <td>Closed with explanation</td>\n",
       "      <td>Yes</td>\n",
       "      <td>None</td>\n",
       "      <td>wells fargo &amp; company</td>\n",
       "      <td>1.000</td>\n",
       "    </tr>\n",
       "    <tr>\n",
       "      <th>2025-03-24</th>\n",
       "      <td>wells fargo &amp; company</td>\n",
       "      <td>BBG001S63TD2</td>\n",
       "      <td>0.186</td>\n",
       "      <td>-0.263</td>\n",
       "      <td>-0.661</td>\n",
       "      <td>-0.246</td>\n",
       "      <td>Credit card</td>\n",
       "      <td>General-purpose credit card or charge card</td>\n",
       "      <td>Problem with a purchase shown on your statement</td>\n",
       "      <td>Card was charged for something you did not pur...</td>\n",
       "      <td>None</td>\n",
       "      <td>Company has responded to the consumer and the ...</td>\n",
       "      <td>MI</td>\n",
       "      <td>48130</td>\n",
       "      <td>Older American</td>\n",
       "      <td>Consent not provided</td>\n",
       "      <td>Web</td>\n",
       "      <td>2025-03-24</td>\n",
       "      <td>Closed with explanation</td>\n",
       "      <td>Yes</td>\n",
       "      <td>None</td>\n",
       "      <td>wells fargo &amp; company</td>\n",
       "      <td>1.000</td>\n",
       "    </tr>\n",
       "    <tr>\n",
       "      <th>2025-03-25</th>\n",
       "      <td>wells fargo &amp; company</td>\n",
       "      <td>BBG001S63TD2</td>\n",
       "      <td>0.173</td>\n",
       "      <td>-0.267</td>\n",
       "      <td>-0.588</td>\n",
       "      <td>-0.227</td>\n",
       "      <td>Checking or savings account</td>\n",
       "      <td>Checking account</td>\n",
       "      <td>Problem with a lender or other company chargin...</td>\n",
       "      <td>Transaction was not authorized</td>\n",
       "      <td>None</td>\n",
       "      <td>Company has responded to the consumer and the ...</td>\n",
       "      <td>MS</td>\n",
       "      <td>39206</td>\n",
       "      <td>None</td>\n",
       "      <td>None</td>\n",
       "      <td>Web</td>\n",
       "      <td>2025-03-25</td>\n",
       "      <td>Closed with explanation</td>\n",
       "      <td>Yes</td>\n",
       "      <td>None</td>\n",
       "      <td>wells fargo &amp; company</td>\n",
       "      <td>1.000</td>\n",
       "    </tr>\n",
       "    <tr>\n",
       "      <th>2025-03-26</th>\n",
       "      <td>wells fargo &amp; company</td>\n",
       "      <td>BBG001S63TD2</td>\n",
       "      <td>0.187</td>\n",
       "      <td>-0.322</td>\n",
       "      <td>-0.315</td>\n",
       "      <td>-0.150</td>\n",
       "      <td>Checking or savings account</td>\n",
       "      <td>Checking account</td>\n",
       "      <td>Managing an account</td>\n",
       "      <td>Fee problem</td>\n",
       "      <td>None</td>\n",
       "      <td>Company has responded to the consumer and the ...</td>\n",
       "      <td>CA</td>\n",
       "      <td>93901</td>\n",
       "      <td>None</td>\n",
       "      <td>None</td>\n",
       "      <td>Web</td>\n",
       "      <td>2025-03-26</td>\n",
       "      <td>Closed with explanation</td>\n",
       "      <td>Yes</td>\n",
       "      <td>None</td>\n",
       "      <td>wells fargo &amp; company</td>\n",
       "      <td>1.000</td>\n",
       "    </tr>\n",
       "    <tr>\n",
       "      <th>2025-03-28</th>\n",
       "      <td>wells fargo &amp; company</td>\n",
       "      <td>BBG001S63TD2</td>\n",
       "      <td>0.177</td>\n",
       "      <td>-0.294</td>\n",
       "      <td>0.105</td>\n",
       "      <td>-0.004</td>\n",
       "      <td>Money transfer, virtual currency, or money ser...</td>\n",
       "      <td>Money order, traveler's check or cashier's check</td>\n",
       "      <td>Unexpected or other fees</td>\n",
       "      <td>None</td>\n",
       "      <td>None</td>\n",
       "      <td>Company has responded to the consumer and the ...</td>\n",
       "      <td>NC</td>\n",
       "      <td>278XX</td>\n",
       "      <td>None</td>\n",
       "      <td>None</td>\n",
       "      <td>Web</td>\n",
       "      <td>2025-03-28</td>\n",
       "      <td>Closed with monetary relief</td>\n",
       "      <td>Yes</td>\n",
       "      <td>None</td>\n",
       "      <td>wells fargo &amp; company</td>\n",
       "      <td>1.000</td>\n",
       "    </tr>\n",
       "  </tbody>\n",
       "</table>\n",
       "</div>"
      ],
      "text/plain": [
       "                                 company bloomberg_share_id  \\\n",
       "ticker date                                                   \n",
       "WFC    2025-03-24  wells fargo & company       BBG001S63TD2   \n",
       "       2025-03-24  wells fargo & company       BBG001S63TD2   \n",
       "       2025-03-25  wells fargo & company       BBG001S63TD2   \n",
       "       2025-03-26  wells fargo & company       BBG001S63TD2   \n",
       "       2025-03-28  wells fargo & company       BBG001S63TD2   \n",
       "\n",
       "                   culpability_score  complaint_score  grievance_score  \\\n",
       "ticker date                                                              \n",
       "WFC    2025-03-24              0.165           -0.236           -0.010   \n",
       "       2025-03-24              0.186           -0.263           -0.661   \n",
       "       2025-03-25              0.173           -0.267           -0.588   \n",
       "       2025-03-26              0.187           -0.322           -0.315   \n",
       "       2025-03-28              0.177           -0.294            0.105   \n",
       "\n",
       "                   total_risk_rating  \\\n",
       "ticker date                            \n",
       "WFC    2025-03-24             -0.027   \n",
       "       2025-03-24             -0.246   \n",
       "       2025-03-25             -0.227   \n",
       "       2025-03-26             -0.150   \n",
       "       2025-03-28             -0.004   \n",
       "\n",
       "                                                             product  \\\n",
       "ticker date                                                            \n",
       "WFC    2025-03-24                        Checking or savings account   \n",
       "       2025-03-24                                        Credit card   \n",
       "       2025-03-25                        Checking or savings account   \n",
       "       2025-03-26                        Checking or savings account   \n",
       "       2025-03-28  Money transfer, virtual currency, or money ser...   \n",
       "\n",
       "                                                        sub_product  \\\n",
       "ticker date                                                           \n",
       "WFC    2025-03-24                                  Checking account   \n",
       "       2025-03-24        General-purpose credit card or charge card   \n",
       "       2025-03-25                                  Checking account   \n",
       "       2025-03-26                                  Checking account   \n",
       "       2025-03-28  Money order, traveler's check or cashier's check   \n",
       "\n",
       "                                                               issue  \\\n",
       "ticker date                                                            \n",
       "WFC    2025-03-24                                Managing an account   \n",
       "       2025-03-24    Problem with a purchase shown on your statement   \n",
       "       2025-03-25  Problem with a lender or other company chargin...   \n",
       "       2025-03-26                                Managing an account   \n",
       "       2025-03-28                           Unexpected or other fees   \n",
       "\n",
       "                                                           sub_issue  \\\n",
       "ticker date                                                            \n",
       "WFC    2025-03-24                           Deposits and withdrawals   \n",
       "       2025-03-24  Card was charged for something you did not pur...   \n",
       "       2025-03-25                     Transaction was not authorized   \n",
       "       2025-03-26                                        Fee problem   \n",
       "       2025-03-28                                               None   \n",
       "\n",
       "                  consumer_complaint_narrative  \\\n",
       "ticker date                                      \n",
       "WFC    2025-03-24                         None   \n",
       "       2025-03-24                         None   \n",
       "       2025-03-25                         None   \n",
       "       2025-03-26                         None   \n",
       "       2025-03-28                         None   \n",
       "\n",
       "                                             company_public_response state  \\\n",
       "ticker date                                                                  \n",
       "WFC    2025-03-24  Company has responded to the consumer and the ...    NJ   \n",
       "       2025-03-24  Company has responded to the consumer and the ...    MI   \n",
       "       2025-03-25  Company has responded to the consumer and the ...    MS   \n",
       "       2025-03-26  Company has responded to the consumer and the ...    CA   \n",
       "       2025-03-28  Company has responded to the consumer and the ...    NC   \n",
       "\n",
       "                  zip_code            tags consumer_consent_provided  \\\n",
       "ticker date                                                            \n",
       "WFC    2025-03-24    07202            None                      None   \n",
       "       2025-03-24    48130  Older American      Consent not provided   \n",
       "       2025-03-25    39206            None                      None   \n",
       "       2025-03-26    93901            None                      None   \n",
       "       2025-03-28    278XX            None                      None   \n",
       "\n",
       "                  submitted_via date_sent_to_company  \\\n",
       "ticker date                                            \n",
       "WFC    2025-03-24           Web           2025-03-24   \n",
       "       2025-03-24           Web           2025-03-24   \n",
       "       2025-03-25           Web           2025-03-25   \n",
       "       2025-03-26           Web           2025-03-26   \n",
       "       2025-03-28           Web           2025-03-28   \n",
       "\n",
       "                  company_response_to_consumer timely_response  \\\n",
       "ticker date                                                      \n",
       "WFC    2025-03-24      Closed with explanation             Yes   \n",
       "       2025-03-24      Closed with explanation             Yes   \n",
       "       2025-03-25      Closed with explanation             Yes   \n",
       "       2025-03-26      Closed with explanation             Yes   \n",
       "       2025-03-28  Closed with monetary relief             Yes   \n",
       "\n",
       "                  consumer_disputed          selected_name  similarity  \n",
       "ticker date                                                             \n",
       "WFC    2025-03-24              None  wells fargo & company       1.000  \n",
       "       2025-03-24              None  wells fargo & company       1.000  \n",
       "       2025-03-25              None  wells fargo & company       1.000  \n",
       "       2025-03-26              None  wells fargo & company       1.000  \n",
       "       2025-03-28              None  wells fargo & company       1.000  "
      ]
     },
     "execution_count": 9,
     "metadata": {},
     "output_type": "execute_result"
    }
   ],
   "source": [
    "df_complaints = sov.data(\"complaints/public\", tickers=[\"WFC\",\"EXPGY\"]); df_complaints.tail()"
   ]
  },
  {
   "cell_type": "code",
   "execution_count": 10,
   "metadata": {},
   "outputs": [
    {
     "data": {
      "application/vnd.plotly.v1+json": {
       "config": {
        "plotlyServerURL": "https://plotly.com"
       },
       "data": [
        {
         "hovertemplate": "date=%{x}<br>complaint_score=%{y}<extra></extra>",
         "legendgroup": "",
         "line": {
          "color": "#636efa",
          "dash": "solid"
         },
         "marker": {
          "symbol": "circle"
         },
         "mode": "lines",
         "name": "",
         "orientation": "v",
         "showlegend": false,
         "type": "scatter",
         "x": [
          "2011-12-31T00:00:00",
          "2012-01-31T00:00:00",
          "2012-02-29T00:00:00",
          "2012-03-31T00:00:00",
          "2012-04-30T00:00:00",
          "2012-05-31T00:00:00",
          "2012-06-30T00:00:00",
          "2012-07-31T00:00:00",
          "2012-08-31T00:00:00",
          "2012-09-30T00:00:00",
          "2012-10-31T00:00:00",
          "2012-11-30T00:00:00",
          "2012-12-31T00:00:00",
          "2013-01-31T00:00:00",
          "2013-02-28T00:00:00",
          "2013-03-31T00:00:00",
          "2013-04-30T00:00:00",
          "2013-05-31T00:00:00",
          "2013-06-30T00:00:00",
          "2013-07-31T00:00:00",
          "2013-08-31T00:00:00",
          "2013-09-30T00:00:00",
          "2013-10-31T00:00:00",
          "2013-11-30T00:00:00",
          "2013-12-31T00:00:00",
          "2014-01-31T00:00:00",
          "2014-02-28T00:00:00",
          "2014-03-31T00:00:00",
          "2014-04-30T00:00:00",
          "2014-05-31T00:00:00",
          "2014-06-30T00:00:00",
          "2014-07-31T00:00:00",
          "2014-08-31T00:00:00",
          "2014-09-30T00:00:00",
          "2014-10-31T00:00:00",
          "2014-11-30T00:00:00",
          "2014-12-31T00:00:00",
          "2015-01-31T00:00:00",
          "2015-02-28T00:00:00",
          "2015-03-31T00:00:00",
          "2015-04-30T00:00:00",
          "2015-05-31T00:00:00",
          "2015-06-30T00:00:00",
          "2015-07-31T00:00:00",
          "2015-08-31T00:00:00",
          "2015-09-30T00:00:00",
          "2015-10-31T00:00:00",
          "2015-11-30T00:00:00",
          "2015-12-31T00:00:00",
          "2016-01-31T00:00:00",
          "2016-02-29T00:00:00",
          "2016-03-31T00:00:00",
          "2016-04-30T00:00:00",
          "2016-05-31T00:00:00",
          "2016-06-30T00:00:00",
          "2016-07-31T00:00:00",
          "2016-08-31T00:00:00",
          "2016-09-30T00:00:00",
          "2016-10-31T00:00:00",
          "2016-11-30T00:00:00",
          "2016-12-31T00:00:00",
          "2017-01-31T00:00:00",
          "2017-02-28T00:00:00",
          "2017-03-31T00:00:00",
          "2017-04-30T00:00:00",
          "2017-05-31T00:00:00",
          "2017-06-30T00:00:00",
          "2017-07-31T00:00:00",
          "2017-08-31T00:00:00",
          "2017-09-30T00:00:00",
          "2017-10-31T00:00:00",
          "2017-11-30T00:00:00",
          "2017-12-31T00:00:00",
          "2018-01-31T00:00:00",
          "2018-02-28T00:00:00",
          "2018-03-31T00:00:00",
          "2018-04-30T00:00:00",
          "2018-05-31T00:00:00",
          "2018-06-30T00:00:00",
          "2018-07-31T00:00:00",
          "2018-08-31T00:00:00",
          "2018-09-30T00:00:00",
          "2018-10-31T00:00:00",
          "2018-11-30T00:00:00",
          "2018-12-31T00:00:00",
          "2019-01-31T00:00:00",
          "2019-02-28T00:00:00",
          "2019-03-31T00:00:00",
          "2019-04-30T00:00:00",
          "2019-05-31T00:00:00",
          "2019-06-30T00:00:00",
          "2019-07-31T00:00:00",
          "2019-08-31T00:00:00",
          "2019-09-30T00:00:00",
          "2019-10-31T00:00:00",
          "2019-11-30T00:00:00",
          "2019-12-31T00:00:00",
          "2020-01-31T00:00:00",
          "2020-02-29T00:00:00",
          "2020-03-31T00:00:00",
          "2020-04-30T00:00:00",
          "2020-05-31T00:00:00",
          "2020-06-30T00:00:00",
          "2020-07-31T00:00:00",
          "2020-08-31T00:00:00",
          "2020-09-30T00:00:00",
          "2020-10-31T00:00:00",
          "2020-11-30T00:00:00",
          "2020-12-31T00:00:00",
          "2021-01-31T00:00:00",
          "2021-02-28T00:00:00",
          "2021-03-31T00:00:00",
          "2021-04-30T00:00:00",
          "2021-05-31T00:00:00",
          "2021-06-30T00:00:00",
          "2021-07-31T00:00:00",
          "2021-08-31T00:00:00",
          "2021-09-30T00:00:00",
          "2021-10-31T00:00:00",
          "2021-11-30T00:00:00",
          "2021-12-31T00:00:00",
          "2022-01-31T00:00:00",
          "2022-02-28T00:00:00",
          "2022-03-31T00:00:00",
          "2022-04-30T00:00:00",
          "2022-05-31T00:00:00",
          "2022-06-30T00:00:00",
          "2022-07-31T00:00:00",
          "2022-08-31T00:00:00",
          "2022-09-30T00:00:00",
          "2022-10-31T00:00:00",
          "2022-11-30T00:00:00",
          "2022-12-31T00:00:00",
          "2023-01-31T00:00:00",
          "2023-02-28T00:00:00",
          "2023-03-31T00:00:00",
          "2023-04-30T00:00:00",
          "2023-05-31T00:00:00",
          "2023-06-30T00:00:00",
          "2023-07-31T00:00:00",
          "2023-08-31T00:00:00",
          "2023-09-30T00:00:00",
          "2023-10-31T00:00:00",
          "2023-11-30T00:00:00",
          "2023-12-31T00:00:00",
          "2024-01-31T00:00:00",
          "2024-02-29T00:00:00",
          "2024-03-31T00:00:00",
          "2024-04-30T00:00:00",
          "2024-05-31T00:00:00",
          "2024-06-30T00:00:00",
          "2024-07-31T00:00:00",
          "2024-08-31T00:00:00",
          "2024-09-30T00:00:00",
          "2024-10-31T00:00:00",
          "2024-11-30T00:00:00",
          "2024-12-31T00:00:00",
          "2025-01-31T00:00:00",
          "2025-02-28T00:00:00",
          "2025-03-31T00:00:00"
         ],
         "xaxis": "x",
         "y": [
          -0.1985619516991617,
          -0.19270882479710794,
          -0.17723773277794494,
          -0.21141532001831634,
          -0.21996111404244942,
          -0.2321956684929949,
          -0.23532805363916956,
          -0.22673169681999092,
          -0.2284874517354599,
          -0.22578853411624542,
          -0.2313945469978368,
          -0.22615399511277878,
          -0.22010712130284057,
          -0.2149127823320405,
          -0.20247598187510393,
          -0.20372805614744355,
          -0.20423241421239755,
          -0.21263342322171458,
          -0.22089923139241333,
          -0.22006576102727834,
          -0.226069346661656,
          -0.228989261187164,
          -0.2352852813837959,
          -0.22764921763959528,
          -0.22919029272171634,
          -0.22324847892555977,
          -0.21468869386474226,
          -0.20794815193503755,
          -0.21645843233143106,
          -0.22497433853614784,
          -0.22518194559821675,
          -0.22667190656133338,
          -0.22293338600772977,
          -0.23485517947270998,
          -0.22998521513326847,
          -0.23194690112385857,
          -0.23059683762157765,
          -0.2327508848047112,
          -0.22131424302952615,
          -0.21102690882739286,
          -0.20241498293673704,
          -0.19906594669231334,
          -0.17830429986139307,
          -0.18288288298974437,
          -0.17436159144799532,
          -0.1716339283431749,
          -0.18139725736189788,
          -0.1706131631992862,
          -0.1952148047138452,
          -0.18989868858615777,
          -0.18656915831333368,
          -0.20099953164528833,
          -0.19122537721122,
          -0.2185325266959755,
          -0.20753489764996474,
          -0.21222228423060385,
          -0.2024170242070795,
          -0.24132942708211677,
          -0.22993530568308493,
          -0.2351248626838389,
          -0.22951864220479476,
          -0.2344138559297931,
          -0.24739083810314827,
          -0.22906762867719896,
          -0.2345305963359665,
          -0.21553402555932763,
          -0.2740999631587219,
          -0.24957005007733796,
          -0.22979500188226495,
          -0.22734087375897852,
          -0.22916859289626837,
          -0.24387822938655704,
          -0.22349534666883233,
          -0.2520655861685461,
          -0.24959742601861779,
          -0.24104157792708852,
          -0.24520159837876,
          -0.23090415664799369,
          -0.2410029986283459,
          -0.25095381590466737,
          -0.22422473418174294,
          -0.23489448644770042,
          -0.24037543209227996,
          -0.23239361991255322,
          -0.23615026126210917,
          -0.2571383481634499,
          -0.25390625221252583,
          -0.23473860676654978,
          -0.24037579576352053,
          -0.25488123461579343,
          -0.2487362104791427,
          -0.25451265757880315,
          -0.24525755409748656,
          -0.26220651124268096,
          -0.24922690521960075,
          -0.26392099504025607,
          -0.28008905629807346,
          -0.25263616080587387,
          -0.25770682190642885,
          -0.24421039704971886,
          -0.26328836534303596,
          -0.26122598110971595,
          -0.2523492777823988,
          -0.2757445439950175,
          -0.25065215350313547,
          -0.25954981422765533,
          -0.24479148830116262,
          -0.25933034609638156,
          -0.25757455637222443,
          -0.25412385121058656,
          -0.2755723815422445,
          -0.2375358838991755,
          -0.23139174066009638,
          -0.2558862503673758,
          -0.2262070896718328,
          -0.21080356182265236,
          -0.23201702871511892,
          -0.23341021189870823,
          -0.2576716889917045,
          -0.25313140747671165,
          -0.2537932971044692,
          -0.2768455609174643,
          -0.27157978969426955,
          -0.25953266427579136,
          -0.2666786037479527,
          -0.2603593340927709,
          -0.2543531108574425,
          -0.2562224368123586,
          -0.2504339305390431,
          -0.2359157495217788,
          -0.2579002161417771,
          -0.2660459895247098,
          -0.23171818660152368,
          -0.29776943191637784,
          -0.2672747982187202,
          -0.24387993192848822,
          -0.22920883581804888,
          -0.25289545514022727,
          -0.26112434771704846,
          -0.24914917949049148,
          -0.24185991746695992,
          -0.24625841589921868,
          -0.2667422935112437,
          -0.2693281619606291,
          -0.24713834693816425,
          -0.2560450119720764,
          -0.23964402877332006,
          -0.24793011190855435,
          -0.2789462115345873,
          -0.226852781006636,
          -0.2221543237912731,
          -0.16568476015234002,
          -0.1988931931091527,
          -0.18467420761696735,
          -0.19491141593101208,
          -0.2129551370040658,
          -0.2070290288203671,
          -0.17369192935451255,
          -0.2089791779049817,
          -0.20712851065733917
         ],
         "yaxis": "y"
        }
       ],
       "layout": {
        "autosize": true,
        "legend": {
         "tracegroupgap": 0
        },
        "template": {
         "data": {
          "bar": [
           {
            "error_x": {
             "color": "#f2f5fa"
            },
            "error_y": {
             "color": "#f2f5fa"
            },
            "marker": {
             "line": {
              "color": "rgb(17,17,17)",
              "width": 0.5
             },
             "pattern": {
              "fillmode": "overlay",
              "size": 10,
              "solidity": 0.2
             }
            },
            "type": "bar"
           }
          ],
          "barpolar": [
           {
            "marker": {
             "line": {
              "color": "rgb(17,17,17)",
              "width": 0.5
             },
             "pattern": {
              "fillmode": "overlay",
              "size": 10,
              "solidity": 0.2
             }
            },
            "type": "barpolar"
           }
          ],
          "carpet": [
           {
            "aaxis": {
             "endlinecolor": "#A2B1C6",
             "gridcolor": "#506784",
             "linecolor": "#506784",
             "minorgridcolor": "#506784",
             "startlinecolor": "#A2B1C6"
            },
            "baxis": {
             "endlinecolor": "#A2B1C6",
             "gridcolor": "#506784",
             "linecolor": "#506784",
             "minorgridcolor": "#506784",
             "startlinecolor": "#A2B1C6"
            },
            "type": "carpet"
           }
          ],
          "choropleth": [
           {
            "colorbar": {
             "outlinewidth": 0,
             "ticks": ""
            },
            "type": "choropleth"
           }
          ],
          "contour": [
           {
            "colorbar": {
             "outlinewidth": 0,
             "ticks": ""
            },
            "colorscale": [
             [
              0,
              "#0d0887"
             ],
             [
              0.1111111111111111,
              "#46039f"
             ],
             [
              0.2222222222222222,
              "#7201a8"
             ],
             [
              0.3333333333333333,
              "#9c179e"
             ],
             [
              0.4444444444444444,
              "#bd3786"
             ],
             [
              0.5555555555555556,
              "#d8576b"
             ],
             [
              0.6666666666666666,
              "#ed7953"
             ],
             [
              0.7777777777777778,
              "#fb9f3a"
             ],
             [
              0.8888888888888888,
              "#fdca26"
             ],
             [
              1,
              "#f0f921"
             ]
            ],
            "type": "contour"
           }
          ],
          "contourcarpet": [
           {
            "colorbar": {
             "outlinewidth": 0,
             "ticks": ""
            },
            "type": "contourcarpet"
           }
          ],
          "heatmap": [
           {
            "colorbar": {
             "outlinewidth": 0,
             "ticks": ""
            },
            "colorscale": [
             [
              0,
              "#0d0887"
             ],
             [
              0.1111111111111111,
              "#46039f"
             ],
             [
              0.2222222222222222,
              "#7201a8"
             ],
             [
              0.3333333333333333,
              "#9c179e"
             ],
             [
              0.4444444444444444,
              "#bd3786"
             ],
             [
              0.5555555555555556,
              "#d8576b"
             ],
             [
              0.6666666666666666,
              "#ed7953"
             ],
             [
              0.7777777777777778,
              "#fb9f3a"
             ],
             [
              0.8888888888888888,
              "#fdca26"
             ],
             [
              1,
              "#f0f921"
             ]
            ],
            "type": "heatmap"
           }
          ],
          "heatmapgl": [
           {
            "colorbar": {
             "outlinewidth": 0,
             "ticks": ""
            },
            "colorscale": [
             [
              0,
              "#0d0887"
             ],
             [
              0.1111111111111111,
              "#46039f"
             ],
             [
              0.2222222222222222,
              "#7201a8"
             ],
             [
              0.3333333333333333,
              "#9c179e"
             ],
             [
              0.4444444444444444,
              "#bd3786"
             ],
             [
              0.5555555555555556,
              "#d8576b"
             ],
             [
              0.6666666666666666,
              "#ed7953"
             ],
             [
              0.7777777777777778,
              "#fb9f3a"
             ],
             [
              0.8888888888888888,
              "#fdca26"
             ],
             [
              1,
              "#f0f921"
             ]
            ],
            "type": "heatmapgl"
           }
          ],
          "histogram": [
           {
            "marker": {
             "pattern": {
              "fillmode": "overlay",
              "size": 10,
              "solidity": 0.2
             }
            },
            "type": "histogram"
           }
          ],
          "histogram2d": [
           {
            "colorbar": {
             "outlinewidth": 0,
             "ticks": ""
            },
            "colorscale": [
             [
              0,
              "#0d0887"
             ],
             [
              0.1111111111111111,
              "#46039f"
             ],
             [
              0.2222222222222222,
              "#7201a8"
             ],
             [
              0.3333333333333333,
              "#9c179e"
             ],
             [
              0.4444444444444444,
              "#bd3786"
             ],
             [
              0.5555555555555556,
              "#d8576b"
             ],
             [
              0.6666666666666666,
              "#ed7953"
             ],
             [
              0.7777777777777778,
              "#fb9f3a"
             ],
             [
              0.8888888888888888,
              "#fdca26"
             ],
             [
              1,
              "#f0f921"
             ]
            ],
            "type": "histogram2d"
           }
          ],
          "histogram2dcontour": [
           {
            "colorbar": {
             "outlinewidth": 0,
             "ticks": ""
            },
            "colorscale": [
             [
              0,
              "#0d0887"
             ],
             [
              0.1111111111111111,
              "#46039f"
             ],
             [
              0.2222222222222222,
              "#7201a8"
             ],
             [
              0.3333333333333333,
              "#9c179e"
             ],
             [
              0.4444444444444444,
              "#bd3786"
             ],
             [
              0.5555555555555556,
              "#d8576b"
             ],
             [
              0.6666666666666666,
              "#ed7953"
             ],
             [
              0.7777777777777778,
              "#fb9f3a"
             ],
             [
              0.8888888888888888,
              "#fdca26"
             ],
             [
              1,
              "#f0f921"
             ]
            ],
            "type": "histogram2dcontour"
           }
          ],
          "mesh3d": [
           {
            "colorbar": {
             "outlinewidth": 0,
             "ticks": ""
            },
            "type": "mesh3d"
           }
          ],
          "parcoords": [
           {
            "line": {
             "colorbar": {
              "outlinewidth": 0,
              "ticks": ""
             }
            },
            "type": "parcoords"
           }
          ],
          "pie": [
           {
            "automargin": true,
            "type": "pie"
           }
          ],
          "scatter": [
           {
            "marker": {
             "line": {
              "color": "#283442"
             }
            },
            "type": "scatter"
           }
          ],
          "scatter3d": [
           {
            "line": {
             "colorbar": {
              "outlinewidth": 0,
              "ticks": ""
             }
            },
            "marker": {
             "colorbar": {
              "outlinewidth": 0,
              "ticks": ""
             }
            },
            "type": "scatter3d"
           }
          ],
          "scattercarpet": [
           {
            "marker": {
             "colorbar": {
              "outlinewidth": 0,
              "ticks": ""
             }
            },
            "type": "scattercarpet"
           }
          ],
          "scattergeo": [
           {
            "marker": {
             "colorbar": {
              "outlinewidth": 0,
              "ticks": ""
             }
            },
            "type": "scattergeo"
           }
          ],
          "scattergl": [
           {
            "marker": {
             "line": {
              "color": "#283442"
             }
            },
            "type": "scattergl"
           }
          ],
          "scattermapbox": [
           {
            "marker": {
             "colorbar": {
              "outlinewidth": 0,
              "ticks": ""
             }
            },
            "type": "scattermapbox"
           }
          ],
          "scatterpolar": [
           {
            "marker": {
             "colorbar": {
              "outlinewidth": 0,
              "ticks": ""
             }
            },
            "type": "scatterpolar"
           }
          ],
          "scatterpolargl": [
           {
            "marker": {
             "colorbar": {
              "outlinewidth": 0,
              "ticks": ""
             }
            },
            "type": "scatterpolargl"
           }
          ],
          "scatterternary": [
           {
            "marker": {
             "colorbar": {
              "outlinewidth": 0,
              "ticks": ""
             }
            },
            "type": "scatterternary"
           }
          ],
          "surface": [
           {
            "colorbar": {
             "outlinewidth": 0,
             "ticks": ""
            },
            "colorscale": [
             [
              0,
              "#0d0887"
             ],
             [
              0.1111111111111111,
              "#46039f"
             ],
             [
              0.2222222222222222,
              "#7201a8"
             ],
             [
              0.3333333333333333,
              "#9c179e"
             ],
             [
              0.4444444444444444,
              "#bd3786"
             ],
             [
              0.5555555555555556,
              "#d8576b"
             ],
             [
              0.6666666666666666,
              "#ed7953"
             ],
             [
              0.7777777777777778,
              "#fb9f3a"
             ],
             [
              0.8888888888888888,
              "#fdca26"
             ],
             [
              1,
              "#f0f921"
             ]
            ],
            "type": "surface"
           }
          ],
          "table": [
           {
            "cells": {
             "fill": {
              "color": "#506784"
             },
             "line": {
              "color": "rgb(17,17,17)"
             }
            },
            "header": {
             "fill": {
              "color": "#2a3f5f"
             },
             "line": {
              "color": "rgb(17,17,17)"
             }
            },
            "type": "table"
           }
          ]
         },
         "layout": {
          "annotationdefaults": {
           "arrowcolor": "#f2f5fa",
           "arrowhead": 0,
           "arrowwidth": 1
          },
          "autotypenumbers": "strict",
          "coloraxis": {
           "colorbar": {
            "outlinewidth": 0,
            "ticks": ""
           }
          },
          "colorscale": {
           "diverging": [
            [
             0,
             "#8e0152"
            ],
            [
             0.1,
             "#c51b7d"
            ],
            [
             0.2,
             "#de77ae"
            ],
            [
             0.3,
             "#f1b6da"
            ],
            [
             0.4,
             "#fde0ef"
            ],
            [
             0.5,
             "#f7f7f7"
            ],
            [
             0.6,
             "#e6f5d0"
            ],
            [
             0.7,
             "#b8e186"
            ],
            [
             0.8,
             "#7fbc41"
            ],
            [
             0.9,
             "#4d9221"
            ],
            [
             1,
             "#276419"
            ]
           ],
           "sequential": [
            [
             0,
             "#0d0887"
            ],
            [
             0.1111111111111111,
             "#46039f"
            ],
            [
             0.2222222222222222,
             "#7201a8"
            ],
            [
             0.3333333333333333,
             "#9c179e"
            ],
            [
             0.4444444444444444,
             "#bd3786"
            ],
            [
             0.5555555555555556,
             "#d8576b"
            ],
            [
             0.6666666666666666,
             "#ed7953"
            ],
            [
             0.7777777777777778,
             "#fb9f3a"
            ],
            [
             0.8888888888888888,
             "#fdca26"
            ],
            [
             1,
             "#f0f921"
            ]
           ],
           "sequentialminus": [
            [
             0,
             "#0d0887"
            ],
            [
             0.1111111111111111,
             "#46039f"
            ],
            [
             0.2222222222222222,
             "#7201a8"
            ],
            [
             0.3333333333333333,
             "#9c179e"
            ],
            [
             0.4444444444444444,
             "#bd3786"
            ],
            [
             0.5555555555555556,
             "#d8576b"
            ],
            [
             0.6666666666666666,
             "#ed7953"
            ],
            [
             0.7777777777777778,
             "#fb9f3a"
            ],
            [
             0.8888888888888888,
             "#fdca26"
            ],
            [
             1,
             "#f0f921"
            ]
           ]
          },
          "colorway": [
           "#636efa",
           "#EF553B",
           "#00cc96",
           "#ab63fa",
           "#FFA15A",
           "#19d3f3",
           "#FF6692",
           "#B6E880",
           "#FF97FF",
           "#FECB52"
          ],
          "font": {
           "color": "#f2f5fa"
          },
          "geo": {
           "bgcolor": "rgb(17,17,17)",
           "lakecolor": "rgb(17,17,17)",
           "landcolor": "rgb(17,17,17)",
           "showlakes": true,
           "showland": true,
           "subunitcolor": "#506784"
          },
          "hoverlabel": {
           "align": "left"
          },
          "hovermode": "closest",
          "mapbox": {
           "style": "dark"
          },
          "paper_bgcolor": "rgb(17,17,17)",
          "plot_bgcolor": "rgb(17,17,17)",
          "polar": {
           "angularaxis": {
            "gridcolor": "#506784",
            "linecolor": "#506784",
            "ticks": ""
           },
           "bgcolor": "rgb(17,17,17)",
           "radialaxis": {
            "gridcolor": "#506784",
            "linecolor": "#506784",
            "ticks": ""
           }
          },
          "scene": {
           "xaxis": {
            "backgroundcolor": "rgb(17,17,17)",
            "gridcolor": "#506784",
            "gridwidth": 2,
            "linecolor": "#506784",
            "showbackground": true,
            "ticks": "",
            "zerolinecolor": "#C8D4E3"
           },
           "yaxis": {
            "backgroundcolor": "rgb(17,17,17)",
            "gridcolor": "#506784",
            "gridwidth": 2,
            "linecolor": "#506784",
            "showbackground": true,
            "ticks": "",
            "zerolinecolor": "#C8D4E3"
           },
           "zaxis": {
            "backgroundcolor": "rgb(17,17,17)",
            "gridcolor": "#506784",
            "gridwidth": 2,
            "linecolor": "#506784",
            "showbackground": true,
            "ticks": "",
            "zerolinecolor": "#C8D4E3"
           }
          },
          "shapedefaults": {
           "line": {
            "color": "#f2f5fa"
           }
          },
          "sliderdefaults": {
           "bgcolor": "#C8D4E3",
           "bordercolor": "rgb(17,17,17)",
           "borderwidth": 1,
           "tickwidth": 0
          },
          "ternary": {
           "aaxis": {
            "gridcolor": "#506784",
            "linecolor": "#506784",
            "ticks": ""
           },
           "baxis": {
            "gridcolor": "#506784",
            "linecolor": "#506784",
            "ticks": ""
           },
           "bgcolor": "rgb(17,17,17)",
           "caxis": {
            "gridcolor": "#506784",
            "linecolor": "#506784",
            "ticks": ""
           }
          },
          "title": {
           "x": 0.05
          },
          "updatemenudefaults": {
           "bgcolor": "#506784",
           "borderwidth": 0
          },
          "xaxis": {
           "automargin": true,
           "gridcolor": "#283442",
           "linecolor": "#506784",
           "ticks": "",
           "title": {
            "standoff": 15
           },
           "zerolinecolor": "#283442",
           "zerolinewidth": 2
          },
          "yaxis": {
           "automargin": true,
           "gridcolor": "#283442",
           "linecolor": "#506784",
           "ticks": "",
           "title": {
            "standoff": 15
           },
           "zerolinecolor": "#283442",
           "zerolinewidth": 2
          }
         }
        },
        "title": {
         "text": "Weekly Mean Total Risk"
        },
        "xaxis": {
         "anchor": "y",
         "autorange": true,
         "domain": [
          0,
          1
         ],
         "range": [
          "2011-12-31",
          "2025-03-31"
         ],
         "title": {
          "text": "Date"
         },
         "type": "date"
        },
        "yaxis": {
         "anchor": "x",
         "autorange": true,
         "domain": [
          0,
          1
         ],
         "range": [
          -0.30510746923660215,
          -0.1583467228321157
         ],
         "title": {
          "text": "Mean Total Risk"
         },
         "type": "linear"
        }
       }
      },
      "image/png": "[encoded data removed]",
      "text/html": [
       "<div>                            <div id=\"56a78162-545d-4164-aefc-a070524ce9ee\" class=\"plotly-graph-div\" style=\"height:525px; width:100%;\"></div>            <script type=\"text/javascript\">                require([\"plotly\"], function(Plotly) {                    window.PLOTLYENV=window.PLOTLYENV || {};                                    if (document.getElementById(\"56a78162-545d-4164-aefc-a070524ce9ee\")) {                    Plotly.newPlot(                        \"56a78162-545d-4164-aefc-a070524ce9ee\",                        [{\"hovertemplate\":\"date=%{x}\\u003cbr\\u003ecomplaint_score=%{y}\\u003cextra\\u003e\\u003c\\u002fextra\\u003e\",\"legendgroup\":\"\",\"line\":{\"color\":\"#636efa\",\"dash\":\"solid\"},\"marker\":{\"symbol\":\"circle\"},\"mode\":\"lines\",\"name\":\"\",\"orientation\":\"v\",\"showlegend\":false,\"x\":[\"2011-12-31T00:00:00\",\"2012-01-31T00:00:00\",\"2012-02-29T00:00:00\",\"2012-03-31T00:00:00\",\"2012-04-30T00:00:00\",\"2012-05-31T00:00:00\",\"2012-06-30T00:00:00\",\"2012-07-31T00:00:00\",\"2012-08-31T00:00:00\",\"2012-09-30T00:00:00\",\"2012-10-31T00:00:00\",\"2012-11-30T00:00:00\",\"2012-12-31T00:00:00\",\"2013-01-31T00:00:00\",\"2013-02-28T00:00:00\",\"2013-03-31T00:00:00\",\"2013-04-30T00:00:00\",\"2013-05-31T00:00:00\",\"2013-06-30T00:00:00\",\"2013-07-31T00:00:00\",\"2013-08-31T00:00:00\",\"2013-09-30T00:00:00\",\"2013-10-31T00:00:00\",\"2013-11-30T00:00:00\",\"2013-12-31T00:00:00\",\"2014-01-31T00:00:00\",\"2014-02-28T00:00:00\",\"2014-03-31T00:00:00\",\"2014-04-30T00:00:00\",\"2014-05-31T00:00:00\",\"2014-06-30T00:00:00\",\"2014-07-31T00:00:00\",\"2014-08-31T00:00:00\",\"2014-09-30T00:00:00\",\"2014-10-31T00:00:00\",\"2014-11-30T00:00:00\",\"2014-12-31T00:00:00\",\"2015-01-31T00:00:00\",\"2015-02-28T00:00:00\",\"2015-03-31T00:00:00\",\"2015-04-30T00:00:00\",\"2015-05-31T00:00:00\",\"2015-06-30T00:00:00\",\"2015-07-31T00:00:00\",\"2015-08-31T00:00:00\",\"2015-09-30T00:00:00\",\"2015-10-31T00:00:00\",\"2015-11-30T00:00:00\",\"2015-12-31T00:00:00\",\"2016-01-31T00:00:00\",\"2016-02-29T00:00:00\",\"2016-03-31T00:00:00\",\"2016-04-30T00:00:00\",\"2016-05-31T00:00:00\",\"2016-06-30T00:00:00\",\"2016-07-31T00:00:00\",\"2016-08-31T00:00:00\",\"2016-09-30T00:00:00\",\"2016-10-31T00:00:00\",\"2016-11-30T00:00:00\",\"2016-12-31T00:00:00\",\"2017-01-31T00:00:00\",\"2017-02-28T00:00:00\",\"2017-03-31T00:00:00\",\"2017-04-30T00:00:00\",\"2017-05-31T00:00:00\",\"2017-06-30T00:00:00\",\"2017-07-31T00:00:00\",\"2017-08-31T00:00:00\",\"2017-09-30T00:00:00\",\"2017-10-31T00:00:00\",\"2017-11-30T00:00:00\",\"2017-12-31T00:00:00\",\"2018-01-31T00:00:00\",\"2018-02-28T00:00:00\",\"2018-03-31T00:00:00\",\"2018-04-30T00:00:00\",\"2018-05-31T00:00:00\",\"2018-06-30T00:00:00\",\"2018-07-31T00:00:00\",\"2018-08-31T00:00:00\",\"2018-09-30T00:00:00\",\"2018-10-31T00:00:00\",\"2018-11-30T00:00:00\",\"2018-12-31T00:00:00\",\"2019-01-31T00:00:00\",\"2019-02-28T00:00:00\",\"2019-03-31T00:00:00\",\"2019-04-30T00:00:00\",\"2019-05-31T00:00:00\",\"2019-06-30T00:00:00\",\"2019-07-31T00:00:00\",\"2019-08-31T00:00:00\",\"2019-09-30T00:00:00\",\"2019-10-31T00:00:00\",\"2019-11-30T00:00:00\",\"2019-12-31T00:00:00\",\"2020-01-31T00:00:00\",\"2020-02-29T00:00:00\",\"2020-03-31T00:00:00\",\"2020-04-30T00:00:00\",\"2020-05-31T00:00:00\",\"2020-06-30T00:00:00\",\"2020-07-31T00:00:00\",\"2020-08-31T00:00:00\",\"2020-09-30T00:00:00\",\"2020-10-31T00:00:00\",\"2020-11-30T00:00:00\",\"2020-12-31T00:00:00\",\"2021-01-31T00:00:00\",\"2021-02-28T00:00:00\",\"2021-03-31T00:00:00\",\"2021-04-30T00:00:00\",\"2021-05-31T00:00:00\",\"2021-06-30T00:00:00\",\"2021-07-31T00:00:00\",\"2021-08-31T00:00:00\",\"2021-09-30T00:00:00\",\"2021-10-31T00:00:00\",\"2021-11-30T00:00:00\",\"2021-12-31T00:00:00\",\"2022-01-31T00:00:00\",\"2022-02-28T00:00:00\",\"2022-03-31T00:00:00\",\"2022-04-30T00:00:00\",\"2022-05-31T00:00:00\",\"2022-06-30T00:00:00\",\"2022-07-31T00:00:00\",\"2022-08-31T00:00:00\",\"2022-09-30T00:00:00\",\"2022-10-31T00:00:00\",\"2022-11-30T00:00:00\",\"2022-12-31T00:00:00\",\"2023-01-31T00:00:00\",\"2023-02-28T00:00:00\",\"2023-03-31T00:00:00\",\"2023-04-30T00:00:00\",\"2023-05-31T00:00:00\",\"2023-06-30T00:00:00\",\"2023-07-31T00:00:00\",\"2023-08-31T00:00:00\",\"2023-09-30T00:00:00\",\"2023-10-31T00:00:00\",\"2023-11-30T00:00:00\",\"2023-12-31T00:00:00\",\"2024-01-31T00:00:00\",\"2024-02-29T00:00:00\",\"2024-03-31T00:00:00\",\"2024-04-30T00:00:00\",\"2024-05-31T00:00:00\",\"2024-06-30T00:00:00\",\"2024-07-31T00:00:00\",\"2024-08-31T00:00:00\",\"2024-09-30T00:00:00\",\"2024-10-31T00:00:00\",\"2024-11-30T00:00:00\",\"2024-12-31T00:00:00\",\"2025-01-31T00:00:00\",\"2025-02-28T00:00:00\",\"2025-03-31T00:00:00\"],\"xaxis\":\"x\",\"y\":[-0.1985619516991617,-0.19270882479710794,-0.17723773277794494,-0.21141532001831634,-0.21996111404244942,-0.2321956684929949,-0.23532805363916956,-0.22673169681999092,-0.2284874517354599,-0.22578853411624542,-0.2313945469978368,-0.22615399511277878,-0.22010712130284057,-0.2149127823320405,-0.20247598187510393,-0.20372805614744355,-0.20423241421239755,-0.21263342322171458,-0.22089923139241333,-0.22006576102727834,-0.226069346661656,-0.228989261187164,-0.2352852813837959,-0.22764921763959528,-0.22919029272171634,-0.22324847892555977,-0.21468869386474226,-0.20794815193503755,-0.21645843233143106,-0.22497433853614784,-0.22518194559821675,-0.22667190656133338,-0.22293338600772977,-0.23485517947270998,-0.22998521513326847,-0.23194690112385857,-0.23059683762157765,-0.2327508848047112,-0.22131424302952615,-0.21102690882739286,-0.20241498293673704,-0.19906594669231334,-0.17830429986139307,-0.18288288298974437,-0.17436159144799532,-0.1716339283431749,-0.18139725736189788,-0.1706131631992862,-0.1952148047138452,-0.18989868858615777,-0.18656915831333368,-0.20099953164528833,-0.19122537721122,-0.2185325266959755,-0.20753489764996474,-0.21222228423060385,-0.2024170242070795,-0.24132942708211677,-0.22993530568308493,-0.2351248626838389,-0.22951864220479476,-0.2344138559297931,-0.24739083810314827,-0.22906762867719896,-0.2345305963359665,-0.21553402555932763,-0.2740999631587219,-0.24957005007733796,-0.22979500188226495,-0.22734087375897852,-0.22916859289626837,-0.24387822938655704,-0.22349534666883233,-0.2520655861685461,-0.24959742601861779,-0.24104157792708852,-0.24520159837876,-0.23090415664799369,-0.2410029986283459,-0.25095381590466737,-0.22422473418174294,-0.23489448644770042,-0.24037543209227996,-0.23239361991255322,-0.23615026126210917,-0.2571383481634499,-0.25390625221252583,-0.23473860676654978,-0.24037579576352053,-0.25488123461579343,-0.2487362104791427,-0.25451265757880315,-0.24525755409748656,-0.26220651124268096,-0.24922690521960075,-0.26392099504025607,-0.28008905629807346,-0.25263616080587387,-0.25770682190642885,-0.24421039704971886,-0.26328836534303596,-0.26122598110971595,-0.2523492777823988,-0.2757445439950175,-0.25065215350313547,-0.25954981422765533,-0.24479148830116262,-0.25933034609638156,-0.25757455637222443,-0.25412385121058656,-0.2755723815422445,-0.2375358838991755,-0.23139174066009638,-0.2558862503673758,-0.2262070896718328,-0.21080356182265236,-0.23201702871511892,-0.23341021189870823,-0.2576716889917045,-0.25313140747671165,-0.2537932971044692,-0.2768455609174643,-0.27157978969426955,-0.25953266427579136,-0.2666786037479527,-0.2603593340927709,-0.2543531108574425,-0.2562224368123586,-0.2504339305390431,-0.2359157495217788,-0.2579002161417771,-0.2660459895247098,-0.23171818660152368,-0.29776943191637784,-0.2672747982187202,-0.24387993192848822,-0.22920883581804888,-0.25289545514022727,-0.26112434771704846,-0.24914917949049148,-0.24185991746695992,-0.24625841589921868,-0.2667422935112437,-0.2693281619606291,-0.24713834693816425,-0.2560450119720764,-0.23964402877332006,-0.24793011190855435,-0.2789462115345873,-0.226852781006636,-0.2221543237912731,-0.16568476015234002,-0.1988931931091527,-0.18467420761696735,-0.19491141593101208,-0.2129551370040658,-0.2070290288203671,-0.17369192935451255,-0.2089791779049817,-0.20712851065733917],\"yaxis\":\"y\",\"type\":\"scatter\"}],                        {\"template\":{\"data\":{\"histogram2dcontour\":[{\"type\":\"histogram2dcontour\",\"colorbar\":{\"outlinewidth\":0,\"ticks\":\"\"},\"colorscale\":[[0.0,\"#0d0887\"],[0.1111111111111111,\"#46039f\"],[0.2222222222222222,\"#7201a8\"],[0.3333333333333333,\"#9c179e\"],[0.4444444444444444,\"#bd3786\"],[0.5555555555555556,\"#d8576b\"],[0.6666666666666666,\"#ed7953\"],[0.7777777777777778,\"#fb9f3a\"],[0.8888888888888888,\"#fdca26\"],[1.0,\"#f0f921\"]]}],\"choropleth\":[{\"type\":\"choropleth\",\"colorbar\":{\"outlinewidth\":0,\"ticks\":\"\"}}],\"histogram2d\":[{\"type\":\"histogram2d\",\"colorbar\":{\"outlinewidth\":0,\"ticks\":\"\"},\"colorscale\":[[0.0,\"#0d0887\"],[0.1111111111111111,\"#46039f\"],[0.2222222222222222,\"#7201a8\"],[0.3333333333333333,\"#9c179e\"],[0.4444444444444444,\"#bd3786\"],[0.5555555555555556,\"#d8576b\"],[0.6666666666666666,\"#ed7953\"],[0.7777777777777778,\"#fb9f3a\"],[0.8888888888888888,\"#fdca26\"],[1.0,\"#f0f921\"]]}],\"heatmap\":[{\"type\":\"heatmap\",\"colorbar\":{\"outlinewidth\":0,\"ticks\":\"\"},\"colorscale\":[[0.0,\"#0d0887\"],[0.1111111111111111,\"#46039f\"],[0.2222222222222222,\"#7201a8\"],[0.3333333333333333,\"#9c179e\"],[0.4444444444444444,\"#bd3786\"],[0.5555555555555556,\"#d8576b\"],[0.6666666666666666,\"#ed7953\"],[0.7777777777777778,\"#fb9f3a\"],[0.8888888888888888,\"#fdca26\"],[1.0,\"#f0f921\"]]}],\"heatmapgl\":[{\"type\":\"heatmapgl\",\"colorbar\":{\"outlinewidth\":0,\"ticks\":\"\"},\"colorscale\":[[0.0,\"#0d0887\"],[0.1111111111111111,\"#46039f\"],[0.2222222222222222,\"#7201a8\"],[0.3333333333333333,\"#9c179e\"],[0.4444444444444444,\"#bd3786\"],[0.5555555555555556,\"#d8576b\"],[0.6666666666666666,\"#ed7953\"],[0.7777777777777778,\"#fb9f3a\"],[0.8888888888888888,\"#fdca26\"],[1.0,\"#f0f921\"]]}],\"contourcarpet\":[{\"type\":\"contourcarpet\",\"colorbar\":{\"outlinewidth\":0,\"ticks\":\"\"}}],\"contour\":[{\"type\":\"contour\",\"colorbar\":{\"outlinewidth\":0,\"ticks\":\"\"},\"colorscale\":[[0.0,\"#0d0887\"],[0.1111111111111111,\"#46039f\"],[0.2222222222222222,\"#7201a8\"],[0.3333333333333333,\"#9c179e\"],[0.4444444444444444,\"#bd3786\"],[0.5555555555555556,\"#d8576b\"],[0.6666666666666666,\"#ed7953\"],[0.7777777777777778,\"#fb9f3a\"],[0.8888888888888888,\"#fdca26\"],[1.0,\"#f0f921\"]]}],\"surface\":[{\"type\":\"surface\",\"colorbar\":{\"outlinewidth\":0,\"ticks\":\"\"},\"colorscale\":[[0.0,\"#0d0887\"],[0.1111111111111111,\"#46039f\"],[0.2222222222222222,\"#7201a8\"],[0.3333333333333333,\"#9c179e\"],[0.4444444444444444,\"#bd3786\"],[0.5555555555555556,\"#d8576b\"],[0.6666666666666666,\"#ed7953\"],[0.7777777777777778,\"#fb9f3a\"],[0.8888888888888888,\"#fdca26\"],[1.0,\"#f0f921\"]]}],\"mesh3d\":[{\"type\":\"mesh3d\",\"colorbar\":{\"outlinewidth\":0,\"ticks\":\"\"}}],\"scatter\":[{\"marker\":{\"line\":{\"color\":\"#283442\"}},\"type\":\"scatter\"}],\"parcoords\":[{\"type\":\"parcoords\",\"line\":{\"colorbar\":{\"outlinewidth\":0,\"ticks\":\"\"}}}],\"scatterpolargl\":[{\"type\":\"scatterpolargl\",\"marker\":{\"colorbar\":{\"outlinewidth\":0,\"ticks\":\"\"}}}],\"bar\":[{\"error_x\":{\"color\":\"#f2f5fa\"},\"error_y\":{\"color\":\"#f2f5fa\"},\"marker\":{\"line\":{\"color\":\"rgb(17,17,17)\",\"width\":0.5},\"pattern\":{\"fillmode\":\"overlay\",\"size\":10,\"solidity\":0.2}},\"type\":\"bar\"}],\"scattergeo\":[{\"type\":\"scattergeo\",\"marker\":{\"colorbar\":{\"outlinewidth\":0,\"ticks\":\"\"}}}],\"scatterpolar\":[{\"type\":\"scatterpolar\",\"marker\":{\"colorbar\":{\"outlinewidth\":0,\"ticks\":\"\"}}}],\"histogram\":[{\"marker\":{\"pattern\":{\"fillmode\":\"overlay\",\"size\":10,\"solidity\":0.2}},\"type\":\"histogram\"}],\"scattergl\":[{\"marker\":{\"line\":{\"color\":\"#283442\"}},\"type\":\"scattergl\"}],\"scatter3d\":[{\"type\":\"scatter3d\",\"line\":{\"colorbar\":{\"outlinewidth\":0,\"ticks\":\"\"}},\"marker\":{\"colorbar\":{\"outlinewidth\":0,\"ticks\":\"\"}}}],\"scattermapbox\":[{\"type\":\"scattermapbox\",\"marker\":{\"colorbar\":{\"outlinewidth\":0,\"ticks\":\"\"}}}],\"scatterternary\":[{\"type\":\"scatterternary\",\"marker\":{\"colorbar\":{\"outlinewidth\":0,\"ticks\":\"\"}}}],\"scattercarpet\":[{\"type\":\"scattercarpet\",\"marker\":{\"colorbar\":{\"outlinewidth\":0,\"ticks\":\"\"}}}],\"carpet\":[{\"aaxis\":{\"endlinecolor\":\"#A2B1C6\",\"gridcolor\":\"#506784\",\"linecolor\":\"#506784\",\"minorgridcolor\":\"#506784\",\"startlinecolor\":\"#A2B1C6\"},\"baxis\":{\"endlinecolor\":\"#A2B1C6\",\"gridcolor\":\"#506784\",\"linecolor\":\"#506784\",\"minorgridcolor\":\"#506784\",\"startlinecolor\":\"#A2B1C6\"},\"type\":\"carpet\"}],\"table\":[{\"cells\":{\"fill\":{\"color\":\"#506784\"},\"line\":{\"color\":\"rgb(17,17,17)\"}},\"header\":{\"fill\":{\"color\":\"#2a3f5f\"},\"line\":{\"color\":\"rgb(17,17,17)\"}},\"type\":\"table\"}],\"barpolar\":[{\"marker\":{\"line\":{\"color\":\"rgb(17,17,17)\",\"width\":0.5},\"pattern\":{\"fillmode\":\"overlay\",\"size\":10,\"solidity\":0.2}},\"type\":\"barpolar\"}],\"pie\":[{\"automargin\":true,\"type\":\"pie\"}]},\"layout\":{\"autotypenumbers\":\"strict\",\"colorway\":[\"#636efa\",\"#EF553B\",\"#00cc96\",\"#ab63fa\",\"#FFA15A\",\"#19d3f3\",\"#FF6692\",\"#B6E880\",\"#FF97FF\",\"#FECB52\"],\"font\":{\"color\":\"#f2f5fa\"},\"hovermode\":\"closest\",\"hoverlabel\":{\"align\":\"left\"},\"paper_bgcolor\":\"rgb(17,17,17)\",\"plot_bgcolor\":\"rgb(17,17,17)\",\"polar\":{\"bgcolor\":\"rgb(17,17,17)\",\"angularaxis\":{\"gridcolor\":\"#506784\",\"linecolor\":\"#506784\",\"ticks\":\"\"},\"radialaxis\":{\"gridcolor\":\"#506784\",\"linecolor\":\"#506784\",\"ticks\":\"\"}},\"ternary\":{\"bgcolor\":\"rgb(17,17,17)\",\"aaxis\":{\"gridcolor\":\"#506784\",\"linecolor\":\"#506784\",\"ticks\":\"\"},\"baxis\":{\"gridcolor\":\"#506784\",\"linecolor\":\"#506784\",\"ticks\":\"\"},\"caxis\":{\"gridcolor\":\"#506784\",\"linecolor\":\"#506784\",\"ticks\":\"\"}},\"coloraxis\":{\"colorbar\":{\"outlinewidth\":0,\"ticks\":\"\"}},\"colorscale\":{\"sequential\":[[0.0,\"#0d0887\"],[0.1111111111111111,\"#46039f\"],[0.2222222222222222,\"#7201a8\"],[0.3333333333333333,\"#9c179e\"],[0.4444444444444444,\"#bd3786\"],[0.5555555555555556,\"#d8576b\"],[0.6666666666666666,\"#ed7953\"],[0.7777777777777778,\"#fb9f3a\"],[0.8888888888888888,\"#fdca26\"],[1.0,\"#f0f921\"]],\"sequentialminus\":[[0.0,\"#0d0887\"],[0.1111111111111111,\"#46039f\"],[0.2222222222222222,\"#7201a8\"],[0.3333333333333333,\"#9c179e\"],[0.4444444444444444,\"#bd3786\"],[0.5555555555555556,\"#d8576b\"],[0.6666666666666666,\"#ed7953\"],[0.7777777777777778,\"#fb9f3a\"],[0.8888888888888888,\"#fdca26\"],[1.0,\"#f0f921\"]],\"diverging\":[[0,\"#8e0152\"],[0.1,\"#c51b7d\"],[0.2,\"#de77ae\"],[0.3,\"#f1b6da\"],[0.4,\"#fde0ef\"],[0.5,\"#f7f7f7\"],[0.6,\"#e6f5d0\"],[0.7,\"#b8e186\"],[0.8,\"#7fbc41\"],[0.9,\"#4d9221\"],[1,\"#276419\"]]},\"xaxis\":{\"gridcolor\":\"#283442\",\"linecolor\":\"#506784\",\"ticks\":\"\",\"title\":{\"standoff\":15},\"zerolinecolor\":\"#283442\",\"automargin\":true,\"zerolinewidth\":2},\"yaxis\":{\"gridcolor\":\"#283442\",\"linecolor\":\"#506784\",\"ticks\":\"\",\"title\":{\"standoff\":15},\"zerolinecolor\":\"#283442\",\"automargin\":true,\"zerolinewidth\":2},\"scene\":{\"xaxis\":{\"backgroundcolor\":\"rgb(17,17,17)\",\"gridcolor\":\"#506784\",\"linecolor\":\"#506784\",\"showbackground\":true,\"ticks\":\"\",\"zerolinecolor\":\"#C8D4E3\",\"gridwidth\":2},\"yaxis\":{\"backgroundcolor\":\"rgb(17,17,17)\",\"gridcolor\":\"#506784\",\"linecolor\":\"#506784\",\"showbackground\":true,\"ticks\":\"\",\"zerolinecolor\":\"#C8D4E3\",\"gridwidth\":2},\"zaxis\":{\"backgroundcolor\":\"rgb(17,17,17)\",\"gridcolor\":\"#506784\",\"linecolor\":\"#506784\",\"showbackground\":true,\"ticks\":\"\",\"zerolinecolor\":\"#C8D4E3\",\"gridwidth\":2}},\"shapedefaults\":{\"line\":{\"color\":\"#f2f5fa\"}},\"annotationdefaults\":{\"arrowcolor\":\"#f2f5fa\",\"arrowhead\":0,\"arrowwidth\":1},\"geo\":{\"bgcolor\":\"rgb(17,17,17)\",\"landcolor\":\"rgb(17,17,17)\",\"subunitcolor\":\"#506784\",\"showland\":true,\"showlakes\":true,\"lakecolor\":\"rgb(17,17,17)\"},\"title\":{\"x\":0.05},\"updatemenudefaults\":{\"bgcolor\":\"#506784\",\"borderwidth\":0},\"sliderdefaults\":{\"bgcolor\":\"#C8D4E3\",\"borderwidth\":1,\"bordercolor\":\"rgb(17,17,17)\",\"tickwidth\":0},\"mapbox\":{\"style\":\"dark\"}}},\"xaxis\":{\"anchor\":\"y\",\"domain\":[0.0,1.0],\"title\":{\"text\":\"Date\"}},\"yaxis\":{\"anchor\":\"x\",\"domain\":[0.0,1.0],\"title\":{\"text\":\"Mean Total Risk\"}},\"legend\":{\"tracegroupgap\":0},\"title\":{\"text\":\"Weekly Mean Total Risk\"}},                        {\"responsive\": true}                    ).then(function(){\n",
       "                            \n",
       "var gd = document.getElementById('56a78162-545d-4164-aefc-a070524ce9ee');\n",
       "var x = new MutationObserver(function (mutations, observer) {{\n",
       "        var display = window.getComputedStyle(gd).display;\n",
       "        if (!display || display === 'none') {{\n",
       "            console.log([gd, 'removed!']);\n",
       "            Plotly.purge(gd);\n",
       "            observer.disconnect();\n",
       "        }}\n",
       "}});\n",
       "\n",
       "// Listen for the removal of the full notebook cells\n",
       "var notebookContainer = gd.closest('#notebook-container');\n",
       "if (notebookContainer) {{\n",
       "    x.observe(notebookContainer, {childList: true});\n",
       "}}\n",
       "\n",
       "// Listen for the clearing of the current output cell\n",
       "var outputEl = gd.closest('.output');\n",
       "if (outputEl) {{\n",
       "    x.observe(outputEl, {childList: true});\n",
       "}}\n",
       "\n",
       "                        })                };                });            </script>        </div>"
      ]
     },
     "metadata": {},
     "output_type": "display_data"
    }
   ],
   "source": [
    "import pandas as pd\n",
    "import plotly.express as px\n",
    "\n",
    "# Assuming your DataFrame is named 'wells_df'\n",
    "# Convert 'date_received' column to datetime if not already\n",
    "\n",
    "df_complaints = df_complaints.reset_index()\n",
    "\n",
    "wells_df = df_complaints[df_complaints[\"ticker\"]==\"WFC\"]\n",
    "\n",
    "wells_df['date'] = pd.to_datetime(wells_df['date'])\n",
    "\n",
    "# Resample the data by week and calculate the mean of 'total_risk'\n",
    "weekly_data = wells_df.resample('M', on='date')['complaint_score'].mean().reset_index()\n",
    "\n",
    "# Create the line plot using Plotly Express\n",
    "fig = px.line(weekly_data, x='date', y='complaint_score', title='Weekly Mean Total Risk')\n",
    "\n",
    "# Update the axis labels\n",
    "fig.update_xaxes(title='Date')\n",
    "fig.update_yaxes(title='Mean Total Risk')\n",
    "\n",
    "# Show the plot\n",
    "fig.show()"
   ]
  },
  {
   "cell_type": "code",
   "execution_count": 11,
   "metadata": {},
   "outputs": [
    {
     "data": {
      "text/html": [
       "<div>\n",
       "<style scoped>\n",
       "    .dataframe tbody tr th:only-of-type {\n",
       "        vertical-align: middle;\n",
       "    }\n",
       "\n",
       "    .dataframe tbody tr th {\n",
       "        vertical-align: top;\n",
       "    }\n",
       "\n",
       "    .dataframe thead th {\n",
       "        text-align: right;\n",
       "    }\n",
       "</style>\n",
       "<table border=\"1\" class=\"dataframe\">\n",
       "  <thead>\n",
       "    <tr style=\"text-align: right;\">\n",
       "      <th></th>\n",
       "      <th></th>\n",
       "      <th>company</th>\n",
       "      <th>bloomberg_share_id</th>\n",
       "      <th>culpability_score</th>\n",
       "      <th>complaint_score</th>\n",
       "      <th>grievance_score</th>\n",
       "      <th>total_risk_rating</th>\n",
       "      <th>product</th>\n",
       "      <th>sub_product</th>\n",
       "      <th>issue</th>\n",
       "      <th>sub_issue</th>\n",
       "      <th>consumer_complaint_narrative</th>\n",
       "      <th>company_public_response</th>\n",
       "      <th>state</th>\n",
       "      <th>zip_code</th>\n",
       "      <th>tags</th>\n",
       "      <th>consumer_consent_provided</th>\n",
       "      <th>submitted_via</th>\n",
       "      <th>date_sent_to_company</th>\n",
       "      <th>company_response_to_consumer</th>\n",
       "      <th>timely_response</th>\n",
       "      <th>consumer_disputed</th>\n",
       "      <th>selected_name</th>\n",
       "      <th>similarity</th>\n",
       "    </tr>\n",
       "    <tr>\n",
       "      <th>ticker</th>\n",
       "      <th>date</th>\n",
       "      <th></th>\n",
       "      <th></th>\n",
       "      <th></th>\n",
       "      <th></th>\n",
       "      <th></th>\n",
       "      <th></th>\n",
       "      <th></th>\n",
       "      <th></th>\n",
       "      <th></th>\n",
       "      <th></th>\n",
       "      <th></th>\n",
       "      <th></th>\n",
       "      <th></th>\n",
       "      <th></th>\n",
       "      <th></th>\n",
       "      <th></th>\n",
       "      <th></th>\n",
       "      <th></th>\n",
       "      <th></th>\n",
       "      <th></th>\n",
       "      <th></th>\n",
       "      <th></th>\n",
       "      <th></th>\n",
       "    </tr>\n",
       "  </thead>\n",
       "  <tbody>\n",
       "    <tr>\n",
       "      <th rowspan=\"5\" valign=\"top\">EFX</th>\n",
       "      <th>2025-03-30</th>\n",
       "      <td>equifax, inc.</td>\n",
       "      <td>BBG001SXXC92</td>\n",
       "      <td>0.246</td>\n",
       "      <td>-0.085</td>\n",
       "      <td>-0.066</td>\n",
       "      <td>0.032</td>\n",
       "      <td>Credit reporting or other personal consumer re...</td>\n",
       "      <td>Credit reporting</td>\n",
       "      <td>Problem with a company's investigation into an...</td>\n",
       "      <td>Investigation took more than 30 days</td>\n",
       "      <td>None</td>\n",
       "      <td>None</td>\n",
       "      <td>TX</td>\n",
       "      <td>76541</td>\n",
       "      <td>None</td>\n",
       "      <td>None</td>\n",
       "      <td>Web</td>\n",
       "      <td>2025-03-30</td>\n",
       "      <td>In progress</td>\n",
       "      <td>Yes</td>\n",
       "      <td>None</td>\n",
       "      <td>equifax, inc.</td>\n",
       "      <td>1.000</td>\n",
       "    </tr>\n",
       "    <tr>\n",
       "      <th>2025-03-30</th>\n",
       "      <td>equifax, inc.</td>\n",
       "      <td>BBG001SXXC92</td>\n",
       "      <td>0.265</td>\n",
       "      <td>-0.091</td>\n",
       "      <td>0.042</td>\n",
       "      <td>0.072</td>\n",
       "      <td>Credit reporting or other personal consumer re...</td>\n",
       "      <td>Credit reporting</td>\n",
       "      <td>Incorrect information on your report</td>\n",
       "      <td>Personal information incorrect</td>\n",
       "      <td>None</td>\n",
       "      <td>None</td>\n",
       "      <td>GA</td>\n",
       "      <td>30318</td>\n",
       "      <td>None</td>\n",
       "      <td>None</td>\n",
       "      <td>Web</td>\n",
       "      <td>2025-03-30</td>\n",
       "      <td>In progress</td>\n",
       "      <td>Yes</td>\n",
       "      <td>None</td>\n",
       "      <td>equifax, inc.</td>\n",
       "      <td>1.000</td>\n",
       "    </tr>\n",
       "    <tr>\n",
       "      <th>2025-03-30</th>\n",
       "      <td>equifax, inc.</td>\n",
       "      <td>BBG001SXXC92</td>\n",
       "      <td>0.259</td>\n",
       "      <td>-0.091</td>\n",
       "      <td>-0.066</td>\n",
       "      <td>0.034</td>\n",
       "      <td>Credit reporting or other personal consumer re...</td>\n",
       "      <td>Credit reporting</td>\n",
       "      <td>Problem with a company's investigation into an...</td>\n",
       "      <td>Investigation took more than 30 days</td>\n",
       "      <td>None</td>\n",
       "      <td>None</td>\n",
       "      <td>AL</td>\n",
       "      <td>35207</td>\n",
       "      <td>None</td>\n",
       "      <td>None</td>\n",
       "      <td>Web</td>\n",
       "      <td>2025-03-30</td>\n",
       "      <td>In progress</td>\n",
       "      <td>Yes</td>\n",
       "      <td>None</td>\n",
       "      <td>equifax, inc.</td>\n",
       "      <td>1.000</td>\n",
       "    </tr>\n",
       "    <tr>\n",
       "      <th>2025-03-30</th>\n",
       "      <td>equifax, inc.</td>\n",
       "      <td>BBG001SXXC92</td>\n",
       "      <td>0.257</td>\n",
       "      <td>-0.091</td>\n",
       "      <td>0.055</td>\n",
       "      <td>0.074</td>\n",
       "      <td>Credit reporting or other personal consumer re...</td>\n",
       "      <td>Credit reporting</td>\n",
       "      <td>Incorrect information on your report</td>\n",
       "      <td>Information belongs to someone else</td>\n",
       "      <td>None</td>\n",
       "      <td>None</td>\n",
       "      <td>CA</td>\n",
       "      <td>92606</td>\n",
       "      <td>None</td>\n",
       "      <td>None</td>\n",
       "      <td>Web</td>\n",
       "      <td>2025-03-30</td>\n",
       "      <td>In progress</td>\n",
       "      <td>Yes</td>\n",
       "      <td>None</td>\n",
       "      <td>equifax, inc.</td>\n",
       "      <td>1.000</td>\n",
       "    </tr>\n",
       "    <tr>\n",
       "      <th>2025-03-30</th>\n",
       "      <td>equifax, inc.</td>\n",
       "      <td>BBG001SXXC92</td>\n",
       "      <td>0.257</td>\n",
       "      <td>-0.109</td>\n",
       "      <td>0.055</td>\n",
       "      <td>0.068</td>\n",
       "      <td>Credit reporting or other personal consumer re...</td>\n",
       "      <td>Credit reporting</td>\n",
       "      <td>Incorrect information on your report</td>\n",
       "      <td>Information belongs to someone else</td>\n",
       "      <td>None</td>\n",
       "      <td>None</td>\n",
       "      <td>AR</td>\n",
       "      <td>72758</td>\n",
       "      <td>None</td>\n",
       "      <td>None</td>\n",
       "      <td>Web</td>\n",
       "      <td>2025-03-30</td>\n",
       "      <td>In progress</td>\n",
       "      <td>Yes</td>\n",
       "      <td>None</td>\n",
       "      <td>equifax, inc.</td>\n",
       "      <td>1.000</td>\n",
       "    </tr>\n",
       "  </tbody>\n",
       "</table>\n",
       "</div>"
      ],
      "text/plain": [
       "                         company bloomberg_share_id  culpability_score  \\\n",
       "ticker date                                                              \n",
       "EFX    2025-03-30  equifax, inc.       BBG001SXXC92              0.246   \n",
       "       2025-03-30  equifax, inc.       BBG001SXXC92              0.265   \n",
       "       2025-03-30  equifax, inc.       BBG001SXXC92              0.259   \n",
       "       2025-03-30  equifax, inc.       BBG001SXXC92              0.257   \n",
       "       2025-03-30  equifax, inc.       BBG001SXXC92              0.257   \n",
       "\n",
       "                   complaint_score  grievance_score  total_risk_rating  \\\n",
       "ticker date                                                              \n",
       "EFX    2025-03-30           -0.085           -0.066              0.032   \n",
       "       2025-03-30           -0.091            0.042              0.072   \n",
       "       2025-03-30           -0.091           -0.066              0.034   \n",
       "       2025-03-30           -0.091            0.055              0.074   \n",
       "       2025-03-30           -0.109            0.055              0.068   \n",
       "\n",
       "                                                             product  \\\n",
       "ticker date                                                            \n",
       "EFX    2025-03-30  Credit reporting or other personal consumer re...   \n",
       "       2025-03-30  Credit reporting or other personal consumer re...   \n",
       "       2025-03-30  Credit reporting or other personal consumer re...   \n",
       "       2025-03-30  Credit reporting or other personal consumer re...   \n",
       "       2025-03-30  Credit reporting or other personal consumer re...   \n",
       "\n",
       "                        sub_product  \\\n",
       "ticker date                           \n",
       "EFX    2025-03-30  Credit reporting   \n",
       "       2025-03-30  Credit reporting   \n",
       "       2025-03-30  Credit reporting   \n",
       "       2025-03-30  Credit reporting   \n",
       "       2025-03-30  Credit reporting   \n",
       "\n",
       "                                                               issue  \\\n",
       "ticker date                                                            \n",
       "EFX    2025-03-30  Problem with a company's investigation into an...   \n",
       "       2025-03-30               Incorrect information on your report   \n",
       "       2025-03-30  Problem with a company's investigation into an...   \n",
       "       2025-03-30               Incorrect information on your report   \n",
       "       2025-03-30               Incorrect information on your report   \n",
       "\n",
       "                                              sub_issue  \\\n",
       "ticker date                                               \n",
       "EFX    2025-03-30  Investigation took more than 30 days   \n",
       "       2025-03-30        Personal information incorrect   \n",
       "       2025-03-30  Investigation took more than 30 days   \n",
       "       2025-03-30   Information belongs to someone else   \n",
       "       2025-03-30   Information belongs to someone else   \n",
       "\n",
       "                  consumer_complaint_narrative company_public_response state  \\\n",
       "ticker date                                                                    \n",
       "EFX    2025-03-30                         None                    None    TX   \n",
       "       2025-03-30                         None                    None    GA   \n",
       "       2025-03-30                         None                    None    AL   \n",
       "       2025-03-30                         None                    None    CA   \n",
       "       2025-03-30                         None                    None    AR   \n",
       "\n",
       "                  zip_code  tags consumer_consent_provided submitted_via  \\\n",
       "ticker date                                                                \n",
       "EFX    2025-03-30    76541  None                      None           Web   \n",
       "       2025-03-30    30318  None                      None           Web   \n",
       "       2025-03-30    35207  None                      None           Web   \n",
       "       2025-03-30    92606  None                      None           Web   \n",
       "       2025-03-30    72758  None                      None           Web   \n",
       "\n",
       "                  date_sent_to_company company_response_to_consumer  \\\n",
       "ticker date                                                           \n",
       "EFX    2025-03-30           2025-03-30                  In progress   \n",
       "       2025-03-30           2025-03-30                  In progress   \n",
       "       2025-03-30           2025-03-30                  In progress   \n",
       "       2025-03-30           2025-03-30                  In progress   \n",
       "       2025-03-30           2025-03-30                  In progress   \n",
       "\n",
       "                  timely_response consumer_disputed  selected_name  similarity  \n",
       "ticker date                                                                     \n",
       "EFX    2025-03-30             Yes              None  equifax, inc.       1.000  \n",
       "       2025-03-30             Yes              None  equifax, inc.       1.000  \n",
       "       2025-03-30             Yes              None  equifax, inc.       1.000  \n",
       "       2025-03-30             Yes              None  equifax, inc.       1.000  \n",
       "       2025-03-30             Yes              None  equifax, inc.       1.000  "
      ]
     },
     "execution_count": 11,
     "metadata": {},
     "output_type": "execute_result"
    }
   ],
   "source": [
    "df_complaints = sov.data(\"complaints/public\"); df_complaints.tail()"
   ]
  }
 ],
 "metadata": {
  "kernelspec": {
   "display_name": "Python 3 (ipykernel)",
   "language": "python",
   "name": "python3"
  },
  "language_info": {
   "codemirror_mode": {
    "name": "ipython",
    "version": 3
   },
   "file_extension": ".py",
   "mimetype": "text/x-python",
   "name": "python",
   "nbconvert_exporter": "python",
   "pygments_lexer": "ipython3",
   "version": "3.11.10"
  },
  "vscode": {
   "interpreter": {
    "hash": "b7bc88ef2312de8ccb6fe32ee45ed1b303064bae6342b11333199520ddc77aae"
   }
  }
 },
 "nbformat": 4,
 "nbformat_minor": 4
}
