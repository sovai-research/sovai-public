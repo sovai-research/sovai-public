{
 "cells": [
  {
   "cell_type": "code",
   "execution_count": null,
   "id": "b9ec5b7d",
   "metadata": {},
   "outputs": [],
   "source": [
    "!pip install sovai[full]"
   ]
  },
  {
   "cell_type": "code",
   "execution_count": 6,
   "id": "7b251d1a-08c7-462e-99b4-bdbfe2730e41",
   "metadata": {},
   "outputs": [],
   "source": [
    "import sovai as sov\n",
    "\n",
    "sov.token_auth(token=\"visit https://sov.ai/profile for your token\")"
   ]
  },
  {
   "cell_type": "code",
   "execution_count": 7,
   "id": "60df3bf9-ef99-42a6-8d74-a80917b2dced",
   "metadata": {},
   "outputs": [
    {
     "name": "stderr",
     "output_type": "stream",
     "text": [
      "Processing document batches: 100%|█████████████████████████████████████████████████████████| 10/10 [03:07<00:00, 18.73s/it]\n"
     ]
    },
    {
     "name": "stdout",
     "output_type": "stream",
     "text": [
      "Number of Communities = 10\n",
      "AAPL_2024_causal.html\n",
      "Enhanced graph saved to AAPL_2024_causal.html\n",
      "Graph analysis complete. Results saved in the ./docs directory.\n"
     ]
    }
   ],
   "source": [
    "graph_df = sov.sec_graph(\"AAPL\", date=\"2024\", ontology_type=\"causal\", sentiment_filter=0.3, verbose=False)"
   ]
  },
  {
   "cell_type": "code",
   "execution_count": null,
   "id": "302e8f29-f5a8-4090-b77f-af040be926a1",
   "metadata": {},
   "outputs": [],
   "source": [
    "# Usage example:\n",
    "G, dfg, summary = analyze_10k_graph(\"MSFT\", date=\"2024\", ontology_type=\"temporal\", sentiment_filter=0.6)"
   ]
  }
 ],
 "metadata": {
  "kernelspec": {
   "display_name": "Python 3 (ipykernel)",
   "language": "python",
   "name": "python3"
  },
  "language_info": {
   "codemirror_mode": {
    "name": "ipython",
    "version": 3
   },
   "file_extension": ".py",
   "mimetype": "text/x-python",
   "name": "python",
   "nbconvert_exporter": "python",
   "pygments_lexer": "ipython3",
   "version": "3.11.10"
  }
 },
 "nbformat": 4,
 "nbformat_minor": 5
}
