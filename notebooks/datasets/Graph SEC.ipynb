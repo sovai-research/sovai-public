{
 "cells": [
  {
   "cell_type": "code",
   "execution_count": null,
   "id": "6ed13283",
   "metadata": {},
   "outputs": [],
   "source": [
    "!pip install sovai[full]"
   ]
  },
  {
   "cell_type": "code",
   "execution_count": 2,
   "id": "7b251d1a-08c7-462e-99b4-bdbfe2730e41",
   "metadata": {},
   "outputs": [],
   "source": [
    "import sovai as sov\n",
    "\n",
    "sov.token_auth(token=\"visit https://sov.ai/profile for your token\")"
   ]
  },
  {
   "cell_type": "code",
   "execution_count": 7,
   "id": "60df3bf9-ef99-42a6-8d74-a80917b2dced",
   "metadata": {},
   "outputs": [
    {
     "name": "stderr",
     "output_type": "stream",
     "text": [
      "Processing document batches: 100%|█████████████████████████████████████████████████████████| 10/10 [03:07<00:00, 18.73s/it]\n"
     ]
    },
    {
     "name": "stdout",
     "output_type": "stream",
     "text": [
      "Number of Communities = 10\n",
      "AAPL_2024_causal.html\n",
      "Enhanced graph saved to AAPL_2024_causal.html\n",
      "Graph analysis complete. Results saved in the ./docs directory.\n"
     ]
    }
   ],
   "source": [
    "graph_df = sov.sec_graph(\"AAPL\", date=\"2024\", ontology_type=\"causal\", sentiment_filter=0.3, verbose=False)"
   ]
  },
  {
   "cell_type": "code",
   "execution_count": 3,
   "id": "302e8f29-f5a8-4090-b77f-af040be926a1",
   "metadata": {},
   "outputs": [
    {
     "ename": "NameError",
     "evalue": "name 'analyze_10k_graph' is not defined",
     "output_type": "error",
     "traceback": [
      "\u001b[0;31m---------------------------------------------------------------------------\u001b[0m",
      "\u001b[0;31mNameError\u001b[0m                                 Traceback (most recent call last)",
      "Cell \u001b[0;32mIn[3], line 2\u001b[0m\n\u001b[1;32m      1\u001b[0m \u001b[38;5;66;03m# Usage example:\u001b[39;00m\n\u001b[0;32m----> 2\u001b[0m G, dfg, summary \u001b[38;5;241m=\u001b[39m \u001b[43manalyze_10k_graph\u001b[49m(\u001b[38;5;124m\"\u001b[39m\u001b[38;5;124mMSFT\u001b[39m\u001b[38;5;124m\"\u001b[39m, date\u001b[38;5;241m=\u001b[39m\u001b[38;5;124m\"\u001b[39m\u001b[38;5;124m2024\u001b[39m\u001b[38;5;124m\"\u001b[39m, ontology_type\u001b[38;5;241m=\u001b[39m\u001b[38;5;124m\"\u001b[39m\u001b[38;5;124mtemporal\u001b[39m\u001b[38;5;124m\"\u001b[39m, sentiment_filter\u001b[38;5;241m=\u001b[39m\u001b[38;5;241m0.6\u001b[39m)\n",
      "\u001b[0;31mNameError\u001b[0m: name 'analyze_10k_graph' is not defined"
     ]
    }
   ],
   "source": [
    "# Usage example:\n",
    "G, dfg, summary = analyze_10k_graph(\"MSFT\", date=\"2024\", ontology_type=\"temporal\", sentiment_filter=0.6)"
   ]
  }
 ],
 "metadata": {
  "kernelspec": {
   "display_name": "Python 3 (ipykernel)",
   "language": "python",
   "name": "python3"
  },
  "language_info": {
   "codemirror_mode": {
    "name": "ipython",
    "version": 3
   },
   "file_extension": ".py",
   "mimetype": "text/x-python",
   "name": "python",
   "nbconvert_exporter": "python",
   "pygments_lexer": "ipython3",
   "version": "3.12.3"
  }
 },
 "nbformat": 4,
 "nbformat_minor": 5
}
