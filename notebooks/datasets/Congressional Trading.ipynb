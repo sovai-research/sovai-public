{
 "cells": [
  {
   "cell_type": "code",
   "execution_count": null,
   "id": "be4c62dc",
   "metadata": {},
   "outputs": [],
   "source": [
    "!pip install sovai[full]"
   ]
  },
  {
   "cell_type": "markdown",
   "id": "a988b5f6-4bef-4d84-b43b-72a97d07c269",
   "metadata": {},
   "source": [
    "### Congressional Trading"
   ]
  },
  {
   "cell_type": "code",
   "execution_count": 1,
   "id": "dc198373-4452-48a8-92c5-eb5923d261b1",
   "metadata": {},
   "outputs": [],
   "source": [
    "import sovai as sov\n",
    "\n",
    "sov.token_auth(token=\"visit https://sov.ai/profile for your token\")"
   ]
  },
  {
   "cell_type": "code",
   "execution_count": 2,
   "id": "e9cbf817-44dd-457c-b462-43645ce30cc6",
   "metadata": {},
   "outputs": [],
   "source": [
    "df_congress = sov.data(\"congress\")"
   ]
  },
  {
   "cell_type": "code",
   "execution_count": 3,
   "id": "0e632119-97a6-4d91-8584-b3758cf3ab43",
   "metadata": {},
   "outputs": [
    {
     "data": {
      "text/plain": [
       "ticker\n",
       "MSFT     692\n",
       "AAPL     688\n",
       "AMZN     314\n",
       "NVDA     261\n",
       "DIS      252\n",
       "        ... \n",
       "ALLK       1\n",
       "GNK        1\n",
       "SKYAY      1\n",
       "FINL       1\n",
       "BBEP       1\n",
       "Name: count, Length: 4019, dtype: int64"
      ]
     },
     "execution_count": 3,
     "metadata": {},
     "output_type": "execute_result"
    }
   ],
   "source": [
    "df_congress[\"ticker\"].value_counts()"
   ]
  }
 ],
 "metadata": {
  "kernelspec": {
   "display_name": "Python 3 (ipykernel)",
   "language": "python",
   "name": "python3"
  },
  "language_info": {
   "codemirror_mode": {
    "name": "ipython",
    "version": 3
   },
   "file_extension": ".py",
   "mimetype": "text/x-python",
   "name": "python",
   "nbconvert_exporter": "python",
   "pygments_lexer": "ipython3",
   "version": "3.11.10"
  }
 },
 "nbformat": 4,
 "nbformat_minor": 5
}
