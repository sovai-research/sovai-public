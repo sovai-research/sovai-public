{
 "cells": [
  {
   "cell_type": "code",
   "execution_count": null,
   "id": "6769c367",
   "metadata": {},
   "outputs": [],
   "source": [
    "!pip install sovai[full]"
   ]
  },
  {
   "cell_type": "markdown",
   "metadata": {},
   "source": [
    "## Time Decomposition Notebook"
   ]
  },
  {
   "cell_type": "code",
   "execution_count": 2,
   "metadata": {},
   "outputs": [],
   "source": [
    "import sovai as sov\n",
    "\n",
    "sov.token_auth(token=\"visit https://sov.ai/profile for your token\")"
   ]
  },
  {
   "cell_type": "code",
   "execution_count": 4,
   "metadata": {},
   "outputs": [],
   "source": [
    "# Load ratios - takes around 5 mins to load data \n",
    "df_accounting = sov.data(\"accounting/weekly\").select_stocks(\"mega\")"
   ]
  },
  {
   "cell_type": "code",
   "execution_count": 5,
   "metadata": {},
   "outputs": [
    {
     "data": {
      "text/html": [
       "<div>\n",
       "<style scoped>\n",
       "    .dataframe tbody tr th:only-of-type {\n",
       "        vertical-align: middle;\n",
       "    }\n",
       "\n",
       "    .dataframe tbody tr th {\n",
       "        vertical-align: top;\n",
       "    }\n",
       "\n",
       "    .dataframe thead th {\n",
       "        text-align: right;\n",
       "    }\n",
       "</style>\n",
       "<table border=\"1\" class=\"dataframe\">\n",
       "  <thead>\n",
       "    <tr style=\"text-align: right;\">\n",
       "      <th></th>\n",
       "      <th>Observed</th>\n",
       "      <th>Trend</th>\n",
       "      <th>Remainder</th>\n",
       "      <th>Reactive_Trend</th>\n",
       "      <th>Seasonal_seasonal13</th>\n",
       "      <th>Seasonal_seasonal52</th>\n",
       "    </tr>\n",
       "    <tr>\n",
       "      <th>date</th>\n",
       "      <th></th>\n",
       "      <th></th>\n",
       "      <th></th>\n",
       "      <th></th>\n",
       "      <th></th>\n",
       "      <th></th>\n",
       "    </tr>\n",
       "  </thead>\n",
       "  <tbody>\n",
       "    <tr>\n",
       "      <th>2024-06-28</th>\n",
       "      <td>90752999424.000</td>\n",
       "      <td>98144815973.924</td>\n",
       "      <td>1884813809.661</td>\n",
       "      <td>Sideways</td>\n",
       "      <td>9282616.086</td>\n",
       "      <td>-9285912975.671</td>\n",
       "    </tr>\n",
       "    <tr>\n",
       "      <th>2024-07-05</th>\n",
       "      <td>90752999424.000</td>\n",
       "      <td>98219506238.223</td>\n",
       "      <td>2440955165.676</td>\n",
       "      <td>Sideways</td>\n",
       "      <td>4195880.696</td>\n",
       "      <td>-9911657860.595</td>\n",
       "    </tr>\n",
       "    <tr>\n",
       "      <th>2024-07-12</th>\n",
       "      <td>90752999424.000</td>\n",
       "      <td>98295251488.850</td>\n",
       "      <td>3002657118.175</td>\n",
       "      <td>Sideways</td>\n",
       "      <td>-7962474.067</td>\n",
       "      <td>-10536946708.958</td>\n",
       "    </tr>\n",
       "    <tr>\n",
       "      <th>2024-07-19</th>\n",
       "      <td>90752999424.000</td>\n",
       "      <td>98372049714.926</td>\n",
       "      <td>3515284784.213</td>\n",
       "      <td>Sideways</td>\n",
       "      <td>-30793564.989</td>\n",
       "      <td>-11103541510.150</td>\n",
       "    </tr>\n",
       "    <tr>\n",
       "      <th>2024-07-26</th>\n",
       "      <td>90752999424.000</td>\n",
       "      <td>98449888876.172</td>\n",
       "      <td>3997289699.681</td>\n",
       "      <td>Sideways</td>\n",
       "      <td>-57133449.695</td>\n",
       "      <td>-11637045702.158</td>\n",
       "    </tr>\n",
       "  </tbody>\n",
       "</table>\n",
       "</div>"
      ],
      "text/plain": [
       "                  Observed           Trend      Remainder Reactive_Trend  \\\n",
       "date                                                                       \n",
       "2024-06-28 90752999424.000 98144815973.924 1884813809.661       Sideways   \n",
       "2024-07-05 90752999424.000 98219506238.223 2440955165.676       Sideways   \n",
       "2024-07-12 90752999424.000 98295251488.850 3002657118.175       Sideways   \n",
       "2024-07-19 90752999424.000 98372049714.926 3515284784.213       Sideways   \n",
       "2024-07-26 90752999424.000 98449888876.172 3997289699.681       Sideways   \n",
       "\n",
       "            Seasonal_seasonal13  Seasonal_seasonal52  \n",
       "date                                                  \n",
       "2024-06-28          9282616.086      -9285912975.671  \n",
       "2024-07-05          4195880.696      -9911657860.595  \n",
       "2024-07-12         -7962474.067     -10536946708.958  \n",
       "2024-07-19        -30793564.989     -11103541510.150  \n",
       "2024-07-26        -57133449.695     -11637045702.158  "
      ]
     },
     "execution_count": 5,
     "metadata": {},
     "output_type": "execute_result"
    }
   ],
   "source": [
    "df_time = df_accounting.time_decomposition(method=\"data\", ticker=\"AAPL\", feature=\"total_revenue\"); df_time.tail()"
   ]
  },
  {
   "cell_type": "code",
   "execution_count": 6,
   "metadata": {},
   "outputs": [
    {
     "data": {
      "text/html": [
       "<div>\n",
       "<style scoped>\n",
       "    .dataframe tbody tr th:only-of-type {\n",
       "        vertical-align: middle;\n",
       "    }\n",
       "\n",
       "    .dataframe tbody tr th {\n",
       "        vertical-align: top;\n",
       "    }\n",
       "\n",
       "    .dataframe thead th {\n",
       "        text-align: right;\n",
       "    }\n",
       "</style>\n",
       "<table border=\"1\" class=\"dataframe\">\n",
       "  <thead>\n",
       "    <tr style=\"text-align: right;\">\n",
       "      <th></th>\n",
       "      <th>Statistic</th>\n",
       "      <th>Value</th>\n",
       "    </tr>\n",
       "  </thead>\n",
       "  <tbody>\n",
       "    <tr>\n",
       "      <th>0</th>\n",
       "      <td>Ticker</td>\n",
       "      <td>AAPL</td>\n",
       "    </tr>\n",
       "    <tr>\n",
       "      <th>1</th>\n",
       "      <td>Feature</td>\n",
       "      <td>total_revenue</td>\n",
       "    </tr>\n",
       "    <tr>\n",
       "      <th>2</th>\n",
       "      <td>Total_Observations</td>\n",
       "      <td>1592</td>\n",
       "    </tr>\n",
       "    <tr>\n",
       "      <th>3</th>\n",
       "      <td>Overall_Average</td>\n",
       "      <td>30851303424.000</td>\n",
       "    </tr>\n",
       "    <tr>\n",
       "      <th>4</th>\n",
       "      <td>Overall_Trend_Slope</td>\n",
       "      <td>66987547.118</td>\n",
       "    </tr>\n",
       "    <tr>\n",
       "      <th>5</th>\n",
       "      <td>Increasing_Trends_Count</td>\n",
       "      <td>248</td>\n",
       "    </tr>\n",
       "    <tr>\n",
       "      <th>6</th>\n",
       "      <td>Decreasing_Trends_Count</td>\n",
       "      <td>0</td>\n",
       "    </tr>\n",
       "    <tr>\n",
       "      <th>7</th>\n",
       "      <td>Sideways_Trends_Count</td>\n",
       "      <td>1185</td>\n",
       "    </tr>\n",
       "    <tr>\n",
       "      <th>8</th>\n",
       "      <td>Remainder_Standard_Deviation</td>\n",
       "      <td>1430881026.309</td>\n",
       "    </tr>\n",
       "    <tr>\n",
       "      <th>9</th>\n",
       "      <td>Seasonal_seasonal13_Amplitude</td>\n",
       "      <td>480711556.766</td>\n",
       "    </tr>\n",
       "    <tr>\n",
       "      <th>10</th>\n",
       "      <td>Seasonal_seasonal52_Amplitude</td>\n",
       "      <td>33780541560.652</td>\n",
       "    </tr>\n",
       "  </tbody>\n",
       "</table>\n",
       "</div>"
      ],
      "text/plain": [
       "                        Statistic           Value\n",
       "0                          Ticker            AAPL\n",
       "1                         Feature   total_revenue\n",
       "2              Total_Observations            1592\n",
       "3                 Overall_Average 30851303424.000\n",
       "4             Overall_Trend_Slope    66987547.118\n",
       "5         Increasing_Trends_Count             248\n",
       "6         Decreasing_Trends_Count               0\n",
       "7           Sideways_Trends_Count            1185\n",
       "8    Remainder_Standard_Deviation  1430881026.309\n",
       "9   Seasonal_seasonal13_Amplitude   480711556.766\n",
       "10  Seasonal_seasonal52_Amplitude 33780541560.652"
      ]
     },
     "execution_count": 6,
     "metadata": {},
     "output_type": "execute_result"
    }
   ],
   "source": [
    "df_time.attrs[\"stats\"]"
   ]
  },
  {
   "cell_type": "code",
   "execution_count": 7,
   "metadata": {},
   "outputs": [
    {
     "data": {
      "text/html": [
       "\n",
       "        <iframe\n",
       "            width=\"100%\"\n",
       "            height=\"650\"\n",
       "            src=\"http://127.0.0.1:8090/\"\n",
       "            frameborder=\"0\"\n",
       "            allowfullscreen\n",
       "            \n",
       "        ></iframe>\n",
       "        "
      ],
      "text/plain": [
       "<IPython.lib.display.IFrame at 0x29ca22ed0>"
      ]
     },
     "metadata": {},
     "output_type": "display_data"
    }
   ],
   "source": [
    "df_accounting.time_decomposition(method=\"plot\", ticker=\"AAPL\", feature=\"total_revenue\")"
   ]
  }
 ],
 "metadata": {
  "kernelspec": {
   "display_name": "Python 3 (ipykernel)",
   "language": "python",
   "name": "python3"
  },
  "language_info": {
   "codemirror_mode": {
    "name": "ipython",
    "version": 3
   },
   "file_extension": ".py",
   "mimetype": "text/x-python",
   "name": "python",
   "nbconvert_exporter": "python",
   "pygments_lexer": "ipython3",
   "version": "3.11.7"
  },
  "vscode": {
   "interpreter": {
    "hash": "b7bc88ef2312de8ccb6fe32ee45ed1b303064bae6342b11333199520ddc77aae"
   }
  }
 },
 "nbformat": 4,
 "nbformat_minor": 4
}
