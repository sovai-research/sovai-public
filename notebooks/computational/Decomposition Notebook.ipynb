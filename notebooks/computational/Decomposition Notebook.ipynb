{
 "cells": [
  {
   "cell_type": "code",
   "execution_count": null,
   "id": "6052a559",
   "metadata": {},
   "outputs": [],
   "source": [
    "!pip install sovai[full]"
   ]
  },
  {
   "cell_type": "markdown",
   "metadata": {},
   "source": [
    "## Time Decomposition Notebook"
   ]
  },
  {
   "cell_type": "code",
   "execution_count": 2,
   "metadata": {},
   "outputs": [],
   "source": [
    "import sovai as sov\n",
    "\n",
    "sov.token_auth(token=\"visit https://sov.ai/profile for your token\")"
   ]
  },
  {
   "cell_type": "code",
   "execution_count": 3,
   "metadata": {},
   "outputs": [
    {
     "name": "stderr",
     "output_type": "stream",
     "text": [
      "Loading partitions: 100%|██████████| 839/839 [00:13<00:00, 63.35partition/s]\n"
     ]
    }
   ],
   "source": [
    "# Load ratios - takes around 5 mins to load data \n",
    "df_accounting = sov.data(\"accounting/weekly\", start_date=\"2023-01-26\").select_stocks(\"mega\")"
   ]
  },
  {
   "cell_type": "code",
   "execution_count": 5,
   "metadata": {},
   "outputs": [
    {
     "data": {
      "text/html": [
       "<div>\n",
       "<style scoped>\n",
       "    .dataframe tbody tr th:only-of-type {\n",
       "        vertical-align: middle;\n",
       "    }\n",
       "\n",
       "    .dataframe tbody tr th {\n",
       "        vertical-align: top;\n",
       "    }\n",
       "\n",
       "    .dataframe thead th {\n",
       "        text-align: right;\n",
       "    }\n",
       "</style>\n",
       "<table border=\"1\" class=\"dataframe\">\n",
       "  <thead>\n",
       "    <tr style=\"text-align: right;\">\n",
       "      <th></th>\n",
       "      <th>Observed</th>\n",
       "      <th>Trend</th>\n",
       "      <th>Remainder</th>\n",
       "      <th>Reactive_Trend</th>\n",
       "      <th>Seasonal_seasonal13</th>\n",
       "      <th>Seasonal_seasonal52</th>\n",
       "    </tr>\n",
       "    <tr>\n",
       "      <th>date</th>\n",
       "      <th></th>\n",
       "      <th></th>\n",
       "      <th></th>\n",
       "      <th></th>\n",
       "      <th></th>\n",
       "      <th></th>\n",
       "    </tr>\n",
       "  </thead>\n",
       "  <tbody>\n",
       "    <tr>\n",
       "      <th>2025-04-11</th>\n",
       "      <td>102037692416.000</td>\n",
       "      <td>101510034701.886</td>\n",
       "      <td>-1057312377.882</td>\n",
       "      <td>Decreasing</td>\n",
       "      <td>-120649090.200</td>\n",
       "      <td>1705619182.196</td>\n",
       "    </tr>\n",
       "    <tr>\n",
       "      <th>2025-04-18</th>\n",
       "      <td>99811459072.000</td>\n",
       "      <td>101593985601.898</td>\n",
       "      <td>-1246623650.485</td>\n",
       "      <td>Decreasing</td>\n",
       "      <td>-146616580.031</td>\n",
       "      <td>-389286299.382</td>\n",
       "    </tr>\n",
       "    <tr>\n",
       "      <th>2025-04-25</th>\n",
       "      <td>97585233920.000</td>\n",
       "      <td>101677447952.907</td>\n",
       "      <td>-1471137805.861</td>\n",
       "      <td>Decreasing</td>\n",
       "      <td>-89509719.765</td>\n",
       "      <td>-2531566507.281</td>\n",
       "    </tr>\n",
       "    <tr>\n",
       "      <th>2025-05-02</th>\n",
       "      <td>95359000576.000</td>\n",
       "      <td>101760418107.341</td>\n",
       "      <td>-1688640155.109</td>\n",
       "      <td>Decreasing</td>\n",
       "      <td>110937043.201</td>\n",
       "      <td>-4823714419.433</td>\n",
       "    </tr>\n",
       "    <tr>\n",
       "      <th>2025-05-09</th>\n",
       "      <td>95359000576.000</td>\n",
       "      <td>101842897949.041</td>\n",
       "      <td>-1329961597.530</td>\n",
       "      <td>Decreasing</td>\n",
       "      <td>261559273.790</td>\n",
       "      <td>-5415495049.300</td>\n",
       "    </tr>\n",
       "  </tbody>\n",
       "</table>\n",
       "</div>"
      ],
      "text/plain": [
       "                   Observed            Trend       Remainder Reactive_Trend  \\\n",
       "date                                                                          \n",
       "2025-04-11 102037692416.000 101510034701.886 -1057312377.882     Decreasing   \n",
       "2025-04-18  99811459072.000 101593985601.898 -1246623650.485     Decreasing   \n",
       "2025-04-25  97585233920.000 101677447952.907 -1471137805.861     Decreasing   \n",
       "2025-05-02  95359000576.000 101760418107.341 -1688640155.109     Decreasing   \n",
       "2025-05-09  95359000576.000 101842897949.041 -1329961597.530     Decreasing   \n",
       "\n",
       "            Seasonal_seasonal13  Seasonal_seasonal52  \n",
       "date                                                  \n",
       "2025-04-11       -120649090.200       1705619182.196  \n",
       "2025-04-18       -146616580.031       -389286299.382  \n",
       "2025-04-25        -89509719.765      -2531566507.281  \n",
       "2025-05-02        110937043.201      -4823714419.433  \n",
       "2025-05-09        261559273.790      -5415495049.300  "
      ]
     },
     "execution_count": 5,
     "metadata": {},
     "output_type": "execute_result"
    }
   ],
   "source": [
    "df_time = df_accounting.time_decomposition(method=\"data\", ticker=\"AAPL\", feature=\"total_revenue\"); df_time.tail()"
   ]
  },
  {
   "cell_type": "code",
   "execution_count": 6,
   "metadata": {},
   "outputs": [
    {
     "data": {
      "text/html": [
       "<div>\n",
       "<style scoped>\n",
       "    .dataframe tbody tr th:only-of-type {\n",
       "        vertical-align: middle;\n",
       "    }\n",
       "\n",
       "    .dataframe tbody tr th {\n",
       "        vertical-align: top;\n",
       "    }\n",
       "\n",
       "    .dataframe thead th {\n",
       "        text-align: right;\n",
       "    }\n",
       "</style>\n",
       "<table border=\"1\" class=\"dataframe\">\n",
       "  <thead>\n",
       "    <tr style=\"text-align: right;\">\n",
       "      <th></th>\n",
       "      <th>Statistic</th>\n",
       "      <th>Value</th>\n",
       "    </tr>\n",
       "  </thead>\n",
       "  <tbody>\n",
       "    <tr>\n",
       "      <th>0</th>\n",
       "      <td>Ticker</td>\n",
       "      <td>AAPL</td>\n",
       "    </tr>\n",
       "    <tr>\n",
       "      <th>1</th>\n",
       "      <td>Feature</td>\n",
       "      <td>total_revenue</td>\n",
       "    </tr>\n",
       "    <tr>\n",
       "      <th>2</th>\n",
       "      <td>Total_Observations</td>\n",
       "      <td>120</td>\n",
       "    </tr>\n",
       "    <tr>\n",
       "      <th>3</th>\n",
       "      <td>Overall_Average</td>\n",
       "      <td>98810281984.000</td>\n",
       "    </tr>\n",
       "    <tr>\n",
       "      <th>4</th>\n",
       "      <td>Overall_Trend_Slope</td>\n",
       "      <td>70151440.986</td>\n",
       "    </tr>\n",
       "    <tr>\n",
       "      <th>5</th>\n",
       "      <td>Increasing_Trends_Count</td>\n",
       "      <td>52</td>\n",
       "    </tr>\n",
       "    <tr>\n",
       "      <th>6</th>\n",
       "      <td>Decreasing_Trends_Count</td>\n",
       "      <td>55</td>\n",
       "    </tr>\n",
       "    <tr>\n",
       "      <th>7</th>\n",
       "      <td>Sideways_Trends_Count</td>\n",
       "      <td>1</td>\n",
       "    </tr>\n",
       "    <tr>\n",
       "      <th>8</th>\n",
       "      <td>Remainder_Standard_Deviation</td>\n",
       "      <td>1041933299.528</td>\n",
       "    </tr>\n",
       "    <tr>\n",
       "      <th>9</th>\n",
       "      <td>Seasonal_seasonal13_Amplitude</td>\n",
       "      <td>408175853.821</td>\n",
       "    </tr>\n",
       "    <tr>\n",
       "      <th>10</th>\n",
       "      <td>Seasonal_seasonal52_Amplitude</td>\n",
       "      <td>36041270791.966</td>\n",
       "    </tr>\n",
       "  </tbody>\n",
       "</table>\n",
       "</div>"
      ],
      "text/plain": [
       "                        Statistic           Value\n",
       "0                          Ticker            AAPL\n",
       "1                         Feature   total_revenue\n",
       "2              Total_Observations             120\n",
       "3                 Overall_Average 98810281984.000\n",
       "4             Overall_Trend_Slope    70151440.986\n",
       "5         Increasing_Trends_Count              52\n",
       "6         Decreasing_Trends_Count              55\n",
       "7           Sideways_Trends_Count               1\n",
       "8    Remainder_Standard_Deviation  1041933299.528\n",
       "9   Seasonal_seasonal13_Amplitude   408175853.821\n",
       "10  Seasonal_seasonal52_Amplitude 36041270791.966"
      ]
     },
     "execution_count": 6,
     "metadata": {},
     "output_type": "execute_result"
    }
   ],
   "source": [
    "df_time.attrs[\"stats\"]"
   ]
  },
  {
   "cell_type": "code",
   "execution_count": 7,
   "metadata": {},
   "outputs": [
    {
     "data": {
      "text/html": [
       "\n",
       "        <iframe\n",
       "            width=\"100%\"\n",
       "            height=\"650\"\n",
       "            src=\"http://127.0.0.1:8090/\"\n",
       "            frameborder=\"0\"\n",
       "            allowfullscreen\n",
       "            \n",
       "        ></iframe>\n",
       "        "
      ],
      "text/plain": [
       "<IPython.lib.display.IFrame at 0x16b010d40>"
      ]
     },
     "metadata": {},
     "output_type": "display_data"
    }
   ],
   "source": [
    "df_accounting.time_decomposition(method=\"plot\", ticker=\"AAPL\", feature=\"total_revenue\")"
   ]
  }
 ],
 "metadata": {
  "kernelspec": {
   "display_name": ".venv",
   "language": "python",
   "name": "python3"
  },
  "language_info": {
   "codemirror_mode": {
    "name": "ipython",
    "version": 3
   },
   "file_extension": ".py",
   "mimetype": "text/x-python",
   "name": "python",
   "nbconvert_exporter": "python",
   "pygments_lexer": "ipython3",
   "version": "3.12.3"
  }
 },
 "nbformat": 4,
 "nbformat_minor": 4
}
