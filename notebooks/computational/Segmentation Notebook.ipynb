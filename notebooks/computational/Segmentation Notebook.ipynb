{
 "cells": [
  {
   "cell_type": "code",
   "execution_count": null,
   "id": "0427b465",
   "metadata": {},
   "outputs": [],
   "source": [
    "!pip install sovai[full]"
   ]
  },
  {
   "cell_type": "markdown",
   "metadata": {},
   "source": [
    "## Segmentation Notebook"
   ]
  },
  {
   "cell_type": "code",
   "execution_count": 2,
   "metadata": {},
   "outputs": [],
   "source": [
    "## To check\n",
    "import sovai as sov\n",
    "sov.token_auth(token=\"visit https://sov.ai/profile for your token\")"
   ]
  },
  {
   "cell_type": "markdown",
   "metadata": {},
   "source": [
    "#### Change Point Detection"
   ]
  },
  {
   "cell_type": "code",
   "execution_count": 3,
   "metadata": {},
   "outputs": [],
   "source": [
    "df_accounting = sov.data(\"accounting/weekly\").select_stocks(\"mega\")"
   ]
  },
  {
   "cell_type": "code",
   "execution_count": 4,
   "metadata": {},
   "outputs": [
    {
     "name": "stdout",
     "output_type": "stream",
     "text": [
      "Ticker and/or feature not provided. We will choose on your behalf.\n",
      "Selected ticker: AAPL\n"
     ]
    },
    {
     "data": {
      "text/html": [
       "<div>\n",
       "<style scoped>\n",
       "    .dataframe tbody tr th:only-of-type {\n",
       "        vertical-align: middle;\n",
       "    }\n",
       "\n",
       "    .dataframe tbody tr th {\n",
       "        vertical-align: top;\n",
       "    }\n",
       "\n",
       "    .dataframe thead th {\n",
       "        text-align: right;\n",
       "    }\n",
       "</style>\n",
       "<table border=\"1\" class=\"dataframe\">\n",
       "  <thead>\n",
       "    <tr style=\"text-align: right;\">\n",
       "      <th></th>\n",
       "      <th>Date</th>\n",
       "      <th>Trend</th>\n",
       "      <th>Signal_Value</th>\n",
       "      <th>CUSUM_Score</th>\n",
       "      <th>Duration</th>\n",
       "      <th>Duration_Days</th>\n",
       "      <th>Percent_Change</th>\n",
       "    </tr>\n",
       "  </thead>\n",
       "  <tbody>\n",
       "    <tr>\n",
       "      <th>19</th>\n",
       "      <td>2016-05-27</td>\n",
       "      <td>Increasing</td>\n",
       "      <td>88253693952.000</td>\n",
       "      <td>85.239</td>\n",
       "      <td>427 days</td>\n",
       "      <td>427</td>\n",
       "      <td>36.106</td>\n",
       "    </tr>\n",
       "    <tr>\n",
       "      <th>20</th>\n",
       "      <td>2017-07-28</td>\n",
       "      <td>Increasing</td>\n",
       "      <td>120118460416.000</td>\n",
       "      <td>86.671</td>\n",
       "      <td>378 days</td>\n",
       "      <td>378</td>\n",
       "      <td>23.908</td>\n",
       "    </tr>\n",
       "    <tr>\n",
       "      <th>21</th>\n",
       "      <td>2018-08-10</td>\n",
       "      <td>Increasing</td>\n",
       "      <td>148836007936.000</td>\n",
       "      <td>88.884</td>\n",
       "      <td>378 days</td>\n",
       "      <td>378</td>\n",
       "      <td>2.943</td>\n",
       "    </tr>\n",
       "    <tr>\n",
       "      <th>22</th>\n",
       "      <td>2019-08-23</td>\n",
       "      <td>Sideways</td>\n",
       "      <td>153216237568.000</td>\n",
       "      <td>69.637</td>\n",
       "      <td>371 days</td>\n",
       "      <td>371</td>\n",
       "      <td>2.909</td>\n",
       "    </tr>\n",
       "    <tr>\n",
       "      <th>23</th>\n",
       "      <td>2020-08-28</td>\n",
       "      <td>Sideways</td>\n",
       "      <td>157672849408.000</td>\n",
       "      <td>80.844</td>\n",
       "      <td>210 days</td>\n",
       "      <td>210</td>\n",
       "      <td>-0.364</td>\n",
       "    </tr>\n",
       "    <tr>\n",
       "      <th>24</th>\n",
       "      <td>2021-03-26</td>\n",
       "      <td>Sideways</td>\n",
       "      <td>157099147264.000</td>\n",
       "      <td>12.598</td>\n",
       "      <td>574 days</td>\n",
       "      <td>574</td>\n",
       "      <td>8.796</td>\n",
       "    </tr>\n",
       "    <tr>\n",
       "      <th>25</th>\n",
       "      <td>2022-10-21</td>\n",
       "      <td>Increasing</td>\n",
       "      <td>170917380096.000</td>\n",
       "      <td>96.382</td>\n",
       "      <td>210 days</td>\n",
       "      <td>210</td>\n",
       "      <td>-2.094</td>\n",
       "    </tr>\n",
       "    <tr>\n",
       "      <th>26</th>\n",
       "      <td>2023-05-19</td>\n",
       "      <td>Sideways</td>\n",
       "      <td>167337918464.000</td>\n",
       "      <td>5.285</td>\n",
       "      <td>210 days</td>\n",
       "      <td>210</td>\n",
       "      <td>1.694</td>\n",
       "    </tr>\n",
       "    <tr>\n",
       "      <th>27</th>\n",
       "      <td>2023-12-15</td>\n",
       "      <td>Sideways</td>\n",
       "      <td>170172694528.000</td>\n",
       "      <td>16.386</td>\n",
       "      <td>210 days</td>\n",
       "      <td>210</td>\n",
       "      <td>-0.924</td>\n",
       "    </tr>\n",
       "    <tr>\n",
       "      <th>28</th>\n",
       "      <td>2024-07-12</td>\n",
       "      <td>Sideways</td>\n",
       "      <td>168600993792.000</td>\n",
       "      <td>2.797</td>\n",
       "      <td>0 days</td>\n",
       "      <td>0</td>\n",
       "      <td>0.000</td>\n",
       "    </tr>\n",
       "  </tbody>\n",
       "</table>\n",
       "</div>"
      ],
      "text/plain": [
       "         Date       Trend     Signal_Value  CUSUM_Score Duration  \\\n",
       "19 2016-05-27  Increasing  88253693952.000       85.239 427 days   \n",
       "20 2017-07-28  Increasing 120118460416.000       86.671 378 days   \n",
       "21 2018-08-10  Increasing 148836007936.000       88.884 378 days   \n",
       "22 2019-08-23    Sideways 153216237568.000       69.637 371 days   \n",
       "23 2020-08-28    Sideways 157672849408.000       80.844 210 days   \n",
       "24 2021-03-26    Sideways 157099147264.000       12.598 574 days   \n",
       "25 2022-10-21  Increasing 170917380096.000       96.382 210 days   \n",
       "26 2023-05-19    Sideways 167337918464.000        5.285 210 days   \n",
       "27 2023-12-15    Sideways 170172694528.000       16.386 210 days   \n",
       "28 2024-07-12    Sideways 168600993792.000        2.797   0 days   \n",
       "\n",
       "    Duration_Days  Percent_Change  \n",
       "19            427          36.106  \n",
       "20            378          23.908  \n",
       "21            378           2.943  \n",
       "22            371           2.909  \n",
       "23            210          -0.364  \n",
       "24            574           8.796  \n",
       "25            210          -2.094  \n",
       "26            210           1.694  \n",
       "27            210          -0.924  \n",
       "28              0           0.000  "
      ]
     },
     "execution_count": 4,
     "metadata": {},
     "output_type": "execute_result"
    }
   ],
   "source": [
    "df_change = df_accounting.change_point(method='data', feature=\"book_equity_value\"); df_change.tail(10)"
   ]
  },
  {
   "cell_type": "code",
   "execution_count": 5,
   "metadata": {},
   "outputs": [
    {
     "data": {
      "text/html": [
       "<div>\n",
       "<style scoped>\n",
       "    .dataframe tbody tr th:only-of-type {\n",
       "        vertical-align: middle;\n",
       "    }\n",
       "\n",
       "    .dataframe tbody tr th {\n",
       "        vertical-align: top;\n",
       "    }\n",
       "\n",
       "    .dataframe thead th {\n",
       "        text-align: right;\n",
       "    }\n",
       "</style>\n",
       "<table border=\"1\" class=\"dataframe\">\n",
       "  <thead>\n",
       "    <tr style=\"text-align: right;\">\n",
       "      <th></th>\n",
       "      <th>Statistic</th>\n",
       "      <th>Value</th>\n",
       "    </tr>\n",
       "  </thead>\n",
       "  <tbody>\n",
       "    <tr>\n",
       "      <th>0</th>\n",
       "      <td>Ticker</td>\n",
       "      <td>AAPL</td>\n",
       "    </tr>\n",
       "    <tr>\n",
       "      <th>1</th>\n",
       "      <td>Feature</td>\n",
       "      <td>book_equity_value</td>\n",
       "    </tr>\n",
       "    <tr>\n",
       "      <th>2</th>\n",
       "      <td>Total_Change_Points</td>\n",
       "      <td>29</td>\n",
       "    </tr>\n",
       "    <tr>\n",
       "      <th>3</th>\n",
       "      <td>Average_Duration_Days</td>\n",
       "      <td>338.414</td>\n",
       "    </tr>\n",
       "    <tr>\n",
       "      <th>4</th>\n",
       "      <td>Average_Percent_Change</td>\n",
       "      <td>43.111</td>\n",
       "    </tr>\n",
       "    <tr>\n",
       "      <th>5</th>\n",
       "      <td>Increasing_Trends</td>\n",
       "      <td>9</td>\n",
       "    </tr>\n",
       "    <tr>\n",
       "      <th>6</th>\n",
       "      <td>Decreasing_Trends</td>\n",
       "      <td>8</td>\n",
       "    </tr>\n",
       "    <tr>\n",
       "      <th>7</th>\n",
       "      <td>Sideways_Trends</td>\n",
       "      <td>12</td>\n",
       "    </tr>\n",
       "    <tr>\n",
       "      <th>8</th>\n",
       "      <td>Max_CUSUM_Score</td>\n",
       "      <td>96.382</td>\n",
       "    </tr>\n",
       "    <tr>\n",
       "      <th>9</th>\n",
       "      <td>Min_CUSUM_Score</td>\n",
       "      <td>0.100</td>\n",
       "    </tr>\n",
       "    <tr>\n",
       "      <th>10</th>\n",
       "      <td>Window_Size</td>\n",
       "      <td>79</td>\n",
       "    </tr>\n",
       "  </tbody>\n",
       "</table>\n",
       "</div>"
      ],
      "text/plain": [
       "                 Statistic              Value\n",
       "0                   Ticker               AAPL\n",
       "1                  Feature  book_equity_value\n",
       "2      Total_Change_Points                 29\n",
       "3    Average_Duration_Days            338.414\n",
       "4   Average_Percent_Change             43.111\n",
       "5        Increasing_Trends                  9\n",
       "6        Decreasing_Trends                  8\n",
       "7          Sideways_Trends                 12\n",
       "8          Max_CUSUM_Score             96.382\n",
       "9          Min_CUSUM_Score              0.100\n",
       "10             Window_Size                 79"
      ]
     },
     "execution_count": 5,
     "metadata": {},
     "output_type": "execute_result"
    }
   ],
   "source": [
    "df_change.attrs['stats']"
   ]
  },
  {
   "cell_type": "code",
   "execution_count": 36,
   "metadata": {},
   "outputs": [
    {
     "name": "stdout",
     "output_type": "stream",
     "text": [
      "Ticker and/or feature not provided. We will choose on your behalf.\n",
      "Selected ticker: AAPL\n",
      "Selected feature: cash_short_term\n"
     ]
    },
    {
     "data": {
      "text/html": [
       "\n",
       "        <iframe\n",
       "            width=\"100%\"\n",
       "            height=\"650\"\n",
       "            src=\"http://127.0.0.1:8090/\"\n",
       "            frameborder=\"0\"\n",
       "            allowfullscreen\n",
       "            \n",
       "        ></iframe>\n",
       "        "
      ],
      "text/plain": [
       "<IPython.lib.display.IFrame at 0x2b7cb6f10>"
      ]
     },
     "metadata": {},
     "output_type": "display_data"
    }
   ],
   "source": [
    "df_accounting.change_point(method='plot')"
   ]
  },
  {
   "cell_type": "markdown",
   "metadata": {},
   "source": [
    "### Regime Change"
   ]
  },
  {
   "cell_type": "code",
   "execution_count": 7,
   "metadata": {},
   "outputs": [
    {
     "data": {
      "text/html": [
       "<div>\n",
       "<style scoped>\n",
       "    .dataframe tbody tr th:only-of-type {\n",
       "        vertical-align: middle;\n",
       "    }\n",
       "\n",
       "    .dataframe tbody tr th {\n",
       "        vertical-align: top;\n",
       "    }\n",
       "\n",
       "    .dataframe thead th {\n",
       "        text-align: right;\n",
       "    }\n",
       "</style>\n",
       "<table border=\"1\" class=\"dataframe\">\n",
       "  <thead>\n",
       "    <tr style=\"text-align: right;\">\n",
       "      <th></th>\n",
       "      <th>Start_Date</th>\n",
       "      <th>End_Date</th>\n",
       "      <th>Duration_Days</th>\n",
       "      <th>Start_Value</th>\n",
       "      <th>End_Value</th>\n",
       "      <th>Percent_Change</th>\n",
       "      <th>Trend</th>\n",
       "      <th>Color</th>\n",
       "    </tr>\n",
       "  </thead>\n",
       "  <tbody>\n",
       "    <tr>\n",
       "      <th>0</th>\n",
       "      <td>1994-01-28</td>\n",
       "      <td>2009-12-18</td>\n",
       "      <td>5803</td>\n",
       "      <td>2468854016.000</td>\n",
       "      <td>13000077312.000</td>\n",
       "      <td>426.563</td>\n",
       "      <td>Increasing</td>\n",
       "      <td>#008000</td>\n",
       "    </tr>\n",
       "    <tr>\n",
       "      <th>1</th>\n",
       "      <td>2009-12-25</td>\n",
       "      <td>2011-11-18</td>\n",
       "      <td>693</td>\n",
       "      <td>13447230464.000</td>\n",
       "      <td>32438384640.000</td>\n",
       "      <td>141.227</td>\n",
       "      <td>Increasing</td>\n",
       "      <td>#008000</td>\n",
       "    </tr>\n",
       "    <tr>\n",
       "      <th>2</th>\n",
       "      <td>2011-11-25</td>\n",
       "      <td>2014-11-07</td>\n",
       "      <td>1078</td>\n",
       "      <td>33827846144.000</td>\n",
       "      <td>44621152256.000</td>\n",
       "      <td>31.907</td>\n",
       "      <td>Increasing</td>\n",
       "      <td>#62cb62</td>\n",
       "    </tr>\n",
       "    <tr>\n",
       "      <th>3</th>\n",
       "      <td>2014-11-14</td>\n",
       "      <td>2020-11-20</td>\n",
       "      <td>2198</td>\n",
       "      <td>47119306752.000</td>\n",
       "      <td>75484381184.000</td>\n",
       "      <td>60.198</td>\n",
       "      <td>Increasing</td>\n",
       "      <td>#39ac39</td>\n",
       "    </tr>\n",
       "    <tr>\n",
       "      <th>4</th>\n",
       "      <td>2020-11-27</td>\n",
       "      <td>2024-07-19</td>\n",
       "      <td>1330</td>\n",
       "      <td>79079849984.000</td>\n",
       "      <td>90752999424.000</td>\n",
       "      <td>14.761</td>\n",
       "      <td>Increasing</td>\n",
       "      <td>#7bde7b</td>\n",
       "    </tr>\n",
       "  </tbody>\n",
       "</table>\n",
       "</div>"
      ],
      "text/plain": [
       "  Start_Date   End_Date  Duration_Days     Start_Value       End_Value  \\\n",
       "0 1994-01-28 2009-12-18           5803  2468854016.000 13000077312.000   \n",
       "1 2009-12-25 2011-11-18            693 13447230464.000 32438384640.000   \n",
       "2 2011-11-25 2014-11-07           1078 33827846144.000 44621152256.000   \n",
       "3 2014-11-14 2020-11-20           2198 47119306752.000 75484381184.000   \n",
       "4 2020-11-27 2024-07-19           1330 79079849984.000 90752999424.000   \n",
       "\n",
       "   Percent_Change       Trend    Color  \n",
       "0         426.563  Increasing  #008000  \n",
       "1         141.227  Increasing  #008000  \n",
       "2          31.907  Increasing  #62cb62  \n",
       "3          60.198  Increasing  #39ac39  \n",
       "4          14.761  Increasing  #7bde7b  "
      ]
     },
     "execution_count": 7,
     "metadata": {},
     "output_type": "execute_result"
    }
   ],
   "source": [
    "rc_result = df_accounting.regime_change(method=\"data\", ticker=\"AAPL\", feature=\"total_revenue\"); rc_result.tail(10)"
   ]
  },
  {
   "cell_type": "code",
   "execution_count": 8,
   "metadata": {},
   "outputs": [
    {
     "data": {
      "text/html": [
       "<div>\n",
       "<style scoped>\n",
       "    .dataframe tbody tr th:only-of-type {\n",
       "        vertical-align: middle;\n",
       "    }\n",
       "\n",
       "    .dataframe tbody tr th {\n",
       "        vertical-align: top;\n",
       "    }\n",
       "\n",
       "    .dataframe thead th {\n",
       "        text-align: right;\n",
       "    }\n",
       "</style>\n",
       "<table border=\"1\" class=\"dataframe\">\n",
       "  <thead>\n",
       "    <tr style=\"text-align: right;\">\n",
       "      <th></th>\n",
       "      <th>Statistic</th>\n",
       "      <th>Value</th>\n",
       "    </tr>\n",
       "  </thead>\n",
       "  <tbody>\n",
       "    <tr>\n",
       "      <th>0</th>\n",
       "      <td>Ticker</td>\n",
       "      <td>AAPL</td>\n",
       "    </tr>\n",
       "    <tr>\n",
       "      <th>1</th>\n",
       "      <td>Feature</td>\n",
       "      <td>total_revenue</td>\n",
       "    </tr>\n",
       "    <tr>\n",
       "      <th>2</th>\n",
       "      <td>Total_Regimes</td>\n",
       "      <td>5</td>\n",
       "    </tr>\n",
       "    <tr>\n",
       "      <th>3</th>\n",
       "      <td>Average_Duration_Days</td>\n",
       "      <td>2220.400</td>\n",
       "    </tr>\n",
       "    <tr>\n",
       "      <th>4</th>\n",
       "      <td>Average_Percent_Change</td>\n",
       "      <td>134.931</td>\n",
       "    </tr>\n",
       "    <tr>\n",
       "      <th>5</th>\n",
       "      <td>Increasing_Trends</td>\n",
       "      <td>5</td>\n",
       "    </tr>\n",
       "    <tr>\n",
       "      <th>6</th>\n",
       "      <td>Decreasing_Trends</td>\n",
       "      <td>0</td>\n",
       "    </tr>\n",
       "    <tr>\n",
       "      <th>7</th>\n",
       "      <td>Sideways_Trends</td>\n",
       "      <td>0</td>\n",
       "    </tr>\n",
       "  </tbody>\n",
       "</table>\n",
       "</div>"
      ],
      "text/plain": [
       "                Statistic          Value\n",
       "0                  Ticker           AAPL\n",
       "1                 Feature  total_revenue\n",
       "2           Total_Regimes              5\n",
       "3   Average_Duration_Days       2220.400\n",
       "4  Average_Percent_Change        134.931\n",
       "5       Increasing_Trends              5\n",
       "6       Decreasing_Trends              0\n",
       "7         Sideways_Trends              0"
      ]
     },
     "execution_count": 8,
     "metadata": {},
     "output_type": "execute_result"
    }
   ],
   "source": [
    "rc_result.attrs['stats']"
   ]
  },
  {
   "cell_type": "code",
   "execution_count": 26,
   "metadata": {},
   "outputs": [
    {
     "data": {
      "text/html": [
       "\n",
       "        <iframe\n",
       "            width=\"100%\"\n",
       "            height=\"650\"\n",
       "            src=\"http://127.0.0.1:8090/\"\n",
       "            frameborder=\"0\"\n",
       "            allowfullscreen\n",
       "            \n",
       "        ></iframe>\n",
       "        "
      ],
      "text/plain": [
       "<IPython.lib.display.IFrame at 0x2b787c090>"
      ]
     },
     "metadata": {},
     "output_type": "display_data"
    }
   ],
   "source": [
    "df_accounting.regime_change(method=\"plot\", ticker=\"AAPL\", feature=\"total_revenue\")\n"
   ]
  },
  {
   "cell_type": "markdown",
   "metadata": {},
   "source": [
    "### Comprehensive Regime"
   ]
  },
  {
   "cell_type": "code",
   "execution_count": 10,
   "metadata": {},
   "outputs": [
    {
     "data": {
      "text/html": [
       "<div>\n",
       "<style scoped>\n",
       "    .dataframe tbody tr th:only-of-type {\n",
       "        vertical-align: middle;\n",
       "    }\n",
       "\n",
       "    .dataframe tbody tr th {\n",
       "        vertical-align: top;\n",
       "    }\n",
       "\n",
       "    .dataframe thead th {\n",
       "        text-align: right;\n",
       "    }\n",
       "</style>\n",
       "<table border=\"1\" class=\"dataframe\">\n",
       "  <thead>\n",
       "    <tr style=\"text-align: right;\">\n",
       "      <th></th>\n",
       "      <th>Start_Date</th>\n",
       "      <th>End_Date</th>\n",
       "      <th>Duration_Days</th>\n",
       "      <th>Color</th>\n",
       "      <th>PCA_Start</th>\n",
       "      <th>PCA_End</th>\n",
       "      <th>PCA_Change</th>\n",
       "    </tr>\n",
       "  </thead>\n",
       "  <tbody>\n",
       "    <tr>\n",
       "      <th>12</th>\n",
       "      <td>2015-06-26</td>\n",
       "      <td>2016-01-15</td>\n",
       "      <td>203</td>\n",
       "      <td>orange</td>\n",
       "      <td>2.519</td>\n",
       "      <td>1.766</td>\n",
       "      <td>-0.753</td>\n",
       "    </tr>\n",
       "    <tr>\n",
       "      <th>13</th>\n",
       "      <td>2016-01-22</td>\n",
       "      <td>2019-10-11</td>\n",
       "      <td>1358</td>\n",
       "      <td>blue</td>\n",
       "      <td>2.913</td>\n",
       "      <td>0.253</td>\n",
       "      <td>-2.660</td>\n",
       "    </tr>\n",
       "    <tr>\n",
       "      <th>14</th>\n",
       "      <td>2019-10-18</td>\n",
       "      <td>2022-06-17</td>\n",
       "      <td>973</td>\n",
       "      <td>orange</td>\n",
       "      <td>-0.298</td>\n",
       "      <td>0.589</td>\n",
       "      <td>0.887</td>\n",
       "    </tr>\n",
       "    <tr>\n",
       "      <th>15</th>\n",
       "      <td>2022-06-24</td>\n",
       "      <td>2022-12-09</td>\n",
       "      <td>168</td>\n",
       "      <td>blue</td>\n",
       "      <td>0.832</td>\n",
       "      <td>-1.138</td>\n",
       "      <td>-1.970</td>\n",
       "    </tr>\n",
       "    <tr>\n",
       "      <th>16</th>\n",
       "      <td>2022-12-16</td>\n",
       "      <td>2024-07-19</td>\n",
       "      <td>581</td>\n",
       "      <td>orange</td>\n",
       "      <td>-0.959</td>\n",
       "      <td>-1.898</td>\n",
       "      <td>-0.939</td>\n",
       "    </tr>\n",
       "  </tbody>\n",
       "</table>\n",
       "</div>"
      ],
      "text/plain": [
       "   Start_Date   End_Date  Duration_Days   Color  PCA_Start  PCA_End  \\\n",
       "12 2015-06-26 2016-01-15            203  orange      2.519    1.766   \n",
       "13 2016-01-22 2019-10-11           1358    blue      2.913    0.253   \n",
       "14 2019-10-18 2022-06-17            973  orange     -0.298    0.589   \n",
       "15 2022-06-24 2022-12-09            168    blue      0.832   -1.138   \n",
       "16 2022-12-16 2024-07-19            581  orange     -0.959   -1.898   \n",
       "\n",
       "    PCA_Change  \n",
       "12      -0.753  \n",
       "13      -2.660  \n",
       "14       0.887  \n",
       "15      -1.970  \n",
       "16      -0.939  "
      ]
     },
     "execution_count": 10,
     "metadata": {},
     "output_type": "execute_result"
    }
   ],
   "source": [
    "pca_rc_result = df_accounting.pca_regime_change(method=\"data\", ticker=\"AAPL\"); pca_rc_result.tail()"
   ]
  },
  {
   "cell_type": "code",
   "execution_count": 11,
   "metadata": {},
   "outputs": [
    {
     "data": {
      "text/html": [
       "<div>\n",
       "<style scoped>\n",
       "    .dataframe tbody tr th:only-of-type {\n",
       "        vertical-align: middle;\n",
       "    }\n",
       "\n",
       "    .dataframe tbody tr th {\n",
       "        vertical-align: top;\n",
       "    }\n",
       "\n",
       "    .dataframe thead th {\n",
       "        text-align: right;\n",
       "    }\n",
       "</style>\n",
       "<table border=\"1\" class=\"dataframe\">\n",
       "  <thead>\n",
       "    <tr style=\"text-align: right;\">\n",
       "      <th></th>\n",
       "      <th>Statistic</th>\n",
       "      <th>Value</th>\n",
       "    </tr>\n",
       "  </thead>\n",
       "  <tbody>\n",
       "    <tr>\n",
       "      <th>0</th>\n",
       "      <td>Ticker</td>\n",
       "      <td>AAPL</td>\n",
       "    </tr>\n",
       "    <tr>\n",
       "      <th>1</th>\n",
       "      <td>Total_Regimes</td>\n",
       "      <td>17</td>\n",
       "    </tr>\n",
       "    <tr>\n",
       "      <th>2</th>\n",
       "      <td>Average_Duration_Days</td>\n",
       "      <td>622.588</td>\n",
       "    </tr>\n",
       "    <tr>\n",
       "      <th>3</th>\n",
       "      <td>Average_PCA_Change</td>\n",
       "      <td>-0.372</td>\n",
       "    </tr>\n",
       "    <tr>\n",
       "      <th>4</th>\n",
       "      <td>Window_Size</td>\n",
       "      <td>63</td>\n",
       "    </tr>\n",
       "  </tbody>\n",
       "</table>\n",
       "</div>"
      ],
      "text/plain": [
       "               Statistic   Value\n",
       "0                 Ticker    AAPL\n",
       "1          Total_Regimes      17\n",
       "2  Average_Duration_Days 622.588\n",
       "3     Average_PCA_Change  -0.372\n",
       "4            Window_Size      63"
      ]
     },
     "execution_count": 11,
     "metadata": {},
     "output_type": "execute_result"
    }
   ],
   "source": [
    "pca_rc_result.attrs['stats']"
   ]
  },
  {
   "cell_type": "code",
   "execution_count": 33,
   "metadata": {},
   "outputs": [
    {
     "data": {
      "text/html": [
       "\n",
       "        <iframe\n",
       "            width=\"100%\"\n",
       "            height=\"650\"\n",
       "            src=\"http://127.0.0.1:8090/\"\n",
       "            frameborder=\"0\"\n",
       "            allowfullscreen\n",
       "            \n",
       "        ></iframe>\n",
       "        "
      ],
      "text/plain": [
       "<IPython.lib.display.IFrame at 0x2b058d850>"
      ]
     },
     "metadata": {},
     "output_type": "display_data"
    }
   ],
   "source": [
    "df_accounting.pca_regime_change(method=\"plot\", ticker=\"AAPL\")"
   ]
  }
 ],
 "metadata": {
  "kernelspec": {
   "display_name": "Python 3 (ipykernel)",
   "language": "python",
   "name": "python3"
  },
  "language_info": {
   "codemirror_mode": {
    "name": "ipython",
    "version": 3
   },
   "file_extension": ".py",
   "mimetype": "text/x-python",
   "name": "python",
   "nbconvert_exporter": "python",
   "pygments_lexer": "ipython3",
   "version": "3.11.7"
  },
  "vscode": {
   "interpreter": {
    "hash": "b7bc88ef2312de8ccb6fe32ee45ed1b303064bae6342b11333199520ddc77aae"
   }
  }
 },
 "nbformat": 4,
 "nbformat_minor": 4
}
