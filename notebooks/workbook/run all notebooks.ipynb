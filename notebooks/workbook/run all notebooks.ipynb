{
 "cells": [
  {
   "cell_type": "code",
   "execution_count": null,
   "id": "3f0ec4ba",
   "metadata": {},
   "outputs": [],
   "source": [
    "!pip install sovai[full]"
   ]
  },
  {
   "cell_type": "code",
   "execution_count": 4,
   "id": "1479e22e-ab2b-4e97-a031-bf1fcd692c10",
   "metadata": {},
   "outputs": [
    {
     "name": "stdout",
     "output_type": "stream",
     "text": [
      "Successfully ran: Gen - Financial Ratios.ipynb\n",
      "Successfully ran: Gen - Financial Ratios.ipynb\n"
     ]
    }
   ],
   "source": [
    "import nbformat\n",
    "from nbconvert.preprocessors import ExecutePreprocessor\n",
    "import os\n",
    "\n",
    "# List of paths to the notebooks you want to run in sequence\n",
    "notebooks_to_run = [\n",
    "    \"Gen - Financial Ratios.ipynb\",\n",
    "    \"Gen - Financial Ratios.ipynb\",\n",
    "    # Add the paths for all 10 notebooks here\n",
    "]\n",
    "\n",
    "def run_notebook(notebook_path):\n",
    "    \"\"\"Executes a notebook and returns the output as a dictionary.\"\"\"\n",
    "    with open(notebook_path, \"r\", encoding=\"utf-8\") as f:\n",
    "        notebook = nbformat.read(f, as_version=4)\n",
    "\n",
    "    ep = ExecutePreprocessor(timeout=600, kernel_name=\"python3\")\n",
    "    try:\n",
    "        ep.preprocess(notebook, {\"metadata\": {\"path\": os.path.dirname(notebook_path)}})\n",
    "        print(f\"Successfully ran: {notebook_path}\")\n",
    "    except Exception as e:\n",
    "        print(f\"Error running notebook {notebook_path}: {e}\")\n",
    "\n",
    "# Run each notebook in succession\n",
    "for notebook_path in notebooks_to_run:\n",
    "    run_notebook(notebook_path)\n"
   ]
  },
  {
   "cell_type": "code",
   "execution_count": null,
   "id": "56ff96bc-d0aa-4c7f-8f00-aa342ecb4309",
   "metadata": {},
   "outputs": [],
   "source": [
    "import nbformat\n",
    "from nbconvert.preprocessors import ExecutePreprocessor\n",
    "from google.cloud import storage\n",
    "import os\n",
    "import tempfile\n",
    "\n",
    "# Initialize GCS client\n",
    "client = storage.Client()\n",
    "\n",
    "# Configuration\n",
    "BUCKET_NAME = 'your-bucket'  # Replace with your GCS bucket name\n",
    "NOTEBOOKS_FOLDER = 'notebooks/'  # Folder in the bucket where notebooks are stored\n",
    "LOCAL_TEMP_DIR = tempfile.gettempdir()\n",
    "\n",
    "# List of notebook filenames to run in sequence\n",
    "notebooks_to_run = [\n",
    "    \"Gen - Financial Ratios.ipynb\",\n",
    "    \"Notebook2.ipynb\",\n",
    "    \"Notebook3.ipynb\",\n",
    "    # Add all 10 notebook filenames here\n",
    "]\n",
    "\n",
    "def download_notebook(bucket_name, source_blob_name, destination_file_name):\n",
    "    \"\"\"Downloads a notebook from GCS to a local temporary directory.\"\"\"\n",
    "    bucket = client.bucket(bucket_name)\n",
    "    blob = bucket.blob(source_blob_name)\n",
    "    blob.download_to_filename(destination_file_name)\n",
    "    print(f\"Downloaded {source_blob_name} to {destination_file_name}\")\n",
    "\n",
    "def run_notebook(notebook_path):\n",
    "    \"\"\"Executes a notebook and saves the output.\"\"\"\n",
    "    with open(notebook_path, \"r\", encoding=\"utf-8\") as f:\n",
    "        notebook = nbformat.read(f, as_version=4)\n",
    "\n",
    "    ep = ExecutePreprocessor(timeout=600, kernel_name=\"python3\")\n",
    "\n",
    "    try:\n",
    "        ep.preprocess(notebook, {\"metadata\": {\"path\": os.path.dirname(notebook_path)}})\n",
    "        output_path = notebook_path.replace('.ipynb', '_executed.ipynb')\n",
    "        with open(output_path, \"w\", encoding=\"utf-8\") as f:\n",
    "            nbformat.write(notebook, f)\n",
    "        print(f\"Successfully ran and saved: {output_path}\")\n",
    "    except Exception as e:\n",
    "        print(f\"Error running notebook {notebook_path}: {e}\")\n",
    "\n",
    "def upload_notebook(bucket_name, source_file_name, destination_blob_name):\n",
    "    \"\"\"Uploads the executed notebook back to GCS.\"\"\"\n",
    "    bucket = client.bucket(bucket_name)\n",
    "    blob = bucket.blob(destination_blob_name)\n",
    "    blob.upload_from_filename(source_file_name)\n",
    "    print(f\"Uploaded {source_file_name} to {destination_blob_name}\")\n",
    "\n",
    "# Run each notebook in sequence\n",
    "for notebook in notebooks_to_run:\n",
    "    source_blob = os.path.join(NOTEBOOKS_FOLDER, notebook)\n",
    "    local_notebook = os.path.join(LOCAL_TEMP_DIR, notebook)\n",
    "    \n",
    "    # Download the notebook from GCS\n",
    "    download_notebook(BUCKET_NAME, source_blob, local_notebook)\n",
    "    \n",
    "    # Execute the notebook\n",
    "    run_notebook(local_notebook)\n",
    "    \n",
    "    # Upload the executed notebook back to GCS (optional)\n",
    "    executed_notebook = local_notebook.replace('.ipynb', '_executed.ipynb')\n",
    "    destination_blob = os.path.join(NOTEBOOKS_FOLDER, executed_notebook.split('/')[-1])\n",
    "    upload_notebook(BUCKET_NAME, executed_notebook, destination_blob)\n",
    "    \n",
    "    # Clean up local files\n",
    "    os.remove(local_notebook)\n",
    "    os.remove(executed_notebook)\n"
   ]
  }
 ],
 "metadata": {
  "kernelspec": {
   "display_name": "Python 3 (ipykernel)",
   "language": "python",
   "name": "python3"
  },
  "language_info": {
   "codemirror_mode": {
    "name": "ipython",
    "version": 3
   },
   "file_extension": ".py",
   "mimetype": "text/x-python",
   "name": "python",
   "nbconvert_exporter": "python",
   "pygments_lexer": "ipython3",
   "version": "3.11.10"
  }
 },
 "nbformat": 4,
 "nbformat_minor": 5
}
