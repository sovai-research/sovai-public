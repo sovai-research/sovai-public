{
 "cells": [
  {
   "cell_type": "code",
   "execution_count": null,
   "id": "e49aa055",
   "metadata": {},
   "outputs": [],
   "source": [
    "!pip install sovai[full]"
   ]
  },
  {
   "cell_type": "markdown",
   "metadata": {},
   "source": [
    "## Quick start"
   ]
  },
  {
   "cell_type": "markdown",
   "metadata": {},
   "source": [
    "### Authorization and Authentication"
   ]
  },
  {
   "cell_type": "code",
   "execution_count": 4,
   "metadata": {},
   "outputs": [],
   "source": [
    "import sovai as sv\n",
    "\n",
    "# There are three ways how to login to the API\n",
    "\n",
    "# 1. Configuration API connection\n",
    "sv.ApiConfig.token = \"super_secret_token\"\n",
    "sv.ApiConfig.base_url = \"https://google.com\"\n",
    "\n",
    "# 2. Read token from .env file e.g API_TOKEN=super_secret_token\n",
    "sv.read_key('.env')\n",
    "\n",
    "# 3. The Basic authentication method\n",
    "sv.basic_auth(\"test@test.com\", \"super_strong_password\")\n",
    "\n",
    "# And then continue working with get some data from API and manipulating them"
   ]
  },
  {
   "attachments": {},
   "cell_type": "markdown",
   "metadata": {},
   "source": [
    "### Retrieve data from different endpoints from the API server"
   ]
  },
  {
   "cell_type": "code",
   "execution_count": 5,
   "metadata": {},
   "outputs": [
    {
     "data": {
      "text/html": [
       "<div>\n",
       "<style scoped>\n",
       "    .dataframe tbody tr th:only-of-type {\n",
       "        vertical-align: middle;\n",
       "    }\n",
       "\n",
       "    .dataframe tbody tr th {\n",
       "        vertical-align: top;\n",
       "    }\n",
       "\n",
       "    .dataframe thead th {\n",
       "        text-align: right;\n",
       "    }\n",
       "</style>\n",
       "<table border=\"1\" class=\"dataframe\">\n",
       "  <thead>\n",
       "    <tr style=\"text-align: right;\">\n",
       "      <th></th>\n",
       "      <th>ticker</th>\n",
       "      <th>date</th>\n",
       "      <th>probability_light</th>\n",
       "      <th>probability_convolution</th>\n",
       "      <th>probability_rocket</th>\n",
       "      <th>probability_encoder</th>\n",
       "      <th>probability</th>\n",
       "      <th>volatility</th>\n",
       "      <th>multiplier</th>\n",
       "      <th>version</th>\n",
       "    </tr>\n",
       "    <tr>\n",
       "      <th>id</th>\n",
       "      <th></th>\n",
       "      <th></th>\n",
       "      <th></th>\n",
       "      <th></th>\n",
       "      <th></th>\n",
       "      <th></th>\n",
       "      <th></th>\n",
       "      <th></th>\n",
       "      <th></th>\n",
       "      <th></th>\n",
       "    </tr>\n",
       "  </thead>\n",
       "  <tbody>\n",
       "    <tr>\n",
       "      <th>A_1999-11-30</th>\n",
       "      <td>A</td>\n",
       "      <td>1999-11-30</td>\n",
       "      <td>1.33892</td>\n",
       "      <td>0.669460</td>\n",
       "      <td>1.33892</td>\n",
       "      <td>1.33892</td>\n",
       "      <td>1.171555</td>\n",
       "      <td>1.392365e-09</td>\n",
       "      <td>2.075716</td>\n",
       "      <td>20221013</td>\n",
       "    </tr>\n",
       "    <tr>\n",
       "      <th>A_1999-12-31</th>\n",
       "      <td>A</td>\n",
       "      <td>1999-12-31</td>\n",
       "      <td>1.33890</td>\n",
       "      <td>0.669450</td>\n",
       "      <td>1.33890</td>\n",
       "      <td>1.33890</td>\n",
       "      <td>1.171537</td>\n",
       "      <td>1.497269e-08</td>\n",
       "      <td>2.071355</td>\n",
       "      <td>20221013</td>\n",
       "    </tr>\n",
       "    <tr>\n",
       "      <th>A_2000-01-31</th>\n",
       "      <td>A</td>\n",
       "      <td>2000-01-31</td>\n",
       "      <td>1.33830</td>\n",
       "      <td>0.669150</td>\n",
       "      <td>1.33830</td>\n",
       "      <td>1.33830</td>\n",
       "      <td>1.171012</td>\n",
       "      <td>5.149841e-09</td>\n",
       "      <td>1.913826</td>\n",
       "      <td>20221013</td>\n",
       "    </tr>\n",
       "    <tr>\n",
       "      <th>A_2000-02-29</th>\n",
       "      <td>A</td>\n",
       "      <td>2000-02-29</td>\n",
       "      <td>1.33769</td>\n",
       "      <td>0.668845</td>\n",
       "      <td>1.33769</td>\n",
       "      <td>1.33769</td>\n",
       "      <td>1.170479</td>\n",
       "      <td>2.117157e-09</td>\n",
       "      <td>2.100719</td>\n",
       "      <td>20221013</td>\n",
       "    </tr>\n",
       "    <tr>\n",
       "      <th>A_2000-03-31</th>\n",
       "      <td>A</td>\n",
       "      <td>2000-03-31</td>\n",
       "      <td>1.33626</td>\n",
       "      <td>0.668130</td>\n",
       "      <td>1.33626</td>\n",
       "      <td>1.33626</td>\n",
       "      <td>1.169227</td>\n",
       "      <td>1.943588e-08</td>\n",
       "      <td>1.682463</td>\n",
       "      <td>20221013</td>\n",
       "    </tr>\n",
       "  </tbody>\n",
       "</table>\n",
       "</div>"
      ],
      "text/plain": [
       "             ticker       date  probability_light  probability_convolution  \\\n",
       "id                                                                           \n",
       "A_1999-11-30      A 1999-11-30            1.33892                 0.669460   \n",
       "A_1999-12-31      A 1999-12-31            1.33890                 0.669450   \n",
       "A_2000-01-31      A 2000-01-31            1.33830                 0.669150   \n",
       "A_2000-02-29      A 2000-02-29            1.33769                 0.668845   \n",
       "A_2000-03-31      A 2000-03-31            1.33626                 0.668130   \n",
       "\n",
       "              probability_rocket  probability_encoder  probability  \\\n",
       "id                                                                   \n",
       "A_1999-11-30             1.33892              1.33892     1.171555   \n",
       "A_1999-12-31             1.33890              1.33890     1.171537   \n",
       "A_2000-01-31             1.33830              1.33830     1.171012   \n",
       "A_2000-02-29             1.33769              1.33769     1.170479   \n",
       "A_2000-03-31             1.33626              1.33626     1.169227   \n",
       "\n",
       "                volatility  multiplier   version  \n",
       "id                                                \n",
       "A_1999-11-30  1.392365e-09    2.075716  20221013  \n",
       "A_1999-12-31  1.497269e-08    2.071355  20221013  \n",
       "A_2000-01-31  5.149841e-09    1.913826  20221013  \n",
       "A_2000-02-29  2.117157e-09    2.100719  20221013  \n",
       "A_2000-03-31  1.943588e-08    1.682463  20221013  "
      ]
     },
     "execution_count": 5,
     "metadata": {},
     "output_type": "execute_result"
    }
   ],
   "source": [
    "gs_df = sv.get(\"bankruptcy/monthly\", params={\"version\": 20221013})\n",
    "gs_df.head()"
   ]
  },
  {
   "cell_type": "markdown",
   "metadata": {},
   "source": [
    "### Retrieve charts data with plotting graphs"
   ]
  },
  {
   "cell_type": "code",
   "execution_count": 13,
   "metadata": {},
   "outputs": [],
   "source": [
    "# from IPython.display import Image, display\n",
    "# Retrieve data with plotting special flag `plot=True`\n",
    "data_pca = sv.get(\n",
    "    endpoint=\"bankruptcy/charts\", params={\"tickers\": \"A\", \"chart\": \"pca\"}, plot=True\n",
    ")"
   ]
  }
 ],
 "metadata": {
  "kernelspec": {
   "display_name": "Python 3 (ipykernel)",
   "language": "python",
   "name": "python3"
  },
  "language_info": {
   "codemirror_mode": {
    "name": "ipython",
    "version": 3
   },
   "file_extension": ".py",
   "mimetype": "text/x-python",
   "name": "python",
   "nbconvert_exporter": "python",
   "pygments_lexer": "ipython3",
   "version": "3.11.10"
  },
  "vscode": {
   "interpreter": {
    "hash": "b7bc88ef2312de8ccb6fe32ee45ed1b303064bae6342b11333199520ddc77aae"
   }
  }
 },
 "nbformat": 4,
 "nbformat_minor": 4
}
